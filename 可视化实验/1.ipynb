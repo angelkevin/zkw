{
 "cells": [
  {
   "cell_type": "code",
   "execution_count": 78,
   "metadata": {
    "pycharm": {
     "name": "#%%\n"
    }
   },
   "outputs": [
    {
     "data": {
      "text/plain": [
       "'e:\\\\PycharmProjects\\\\pythonProject\\\\55.html'"
      ]
     },
     "execution_count": 78,
     "metadata": {},
     "output_type": "execute_result"
    }
   ],
   "source": [
    "from pyecharts.charts import Bar\n",
    "from pyecharts import options as opts\n",
    "from pyecharts.globals import ThemeType\n",
    "bar = (\n",
    "    Bar(init_opts=opts.InitOpts(theme=ThemeType.LIGHT))\n",
    "    .add_xaxis([\"哲学\",\"历史\",\"教育\",\"科技\",\"文学\",\"经济\"])\n",
    "    .add_yaxis(\"商家A\",[25,20,36,40,75,90])\n",
    "    .add_yaxis(\"商家B\",[35,26,45,50,35,66])\n",
    "    .set_global_opts(title_opts=opts.TitleOpts(title=\"图书销量\",subtitle=\"2020年\"))\n",
    ")\n",
    "bar.render('55.html')\n"
   ]
  },
  {
   "cell_type": "code",
   "execution_count": 79,
   "metadata": {
    "pycharm": {
     "name": "#%%\n"
    }
   },
   "outputs": [],
   "source": [
    "import pandas as pd\n",
    "import numpy as np\n",
    "data = pd.read_csv(r\"E:\\PycharmProjects\\pythonProject\\销售数据.csv\")"
   ]
  },
  {
   "cell_type": "code",
   "execution_count": 80,
   "metadata": {
    "pycharm": {
     "name": "#%%\n"
    }
   },
   "outputs": [
    {
     "data": {
      "text/html": [
       "<div>\n",
       "<style scoped>\n",
       "    .dataframe tbody tr th:only-of-type {\n",
       "        vertical-align: middle;\n",
       "    }\n",
       "\n",
       "    .dataframe tbody tr th {\n",
       "        vertical-align: top;\n",
       "    }\n",
       "\n",
       "    .dataframe thead th {\n",
       "        text-align: right;\n",
       "    }\n",
       "</style>\n",
       "<table border=\"1\" class=\"dataframe\">\n",
       "  <thead>\n",
       "    <tr style=\"text-align: right;\">\n",
       "      <th></th>\n",
       "      <th>province</th>\n",
       "      <th>adcode</th>\n",
       "      <th>model</th>\n",
       "      <th>bodyType</th>\n",
       "      <th>regYear</th>\n",
       "      <th>regMonth</th>\n",
       "      <th>salesVolume</th>\n",
       "    </tr>\n",
       "  </thead>\n",
       "  <tbody>\n",
       "    <tr>\n",
       "      <th>0</th>\n",
       "      <td>上海</td>\n",
       "      <td>310000</td>\n",
       "      <td>3c974920a76ac9c1</td>\n",
       "      <td>SUV</td>\n",
       "      <td>2016</td>\n",
       "      <td>1</td>\n",
       "      <td>292</td>\n",
       "    </tr>\n",
       "    <tr>\n",
       "      <th>1</th>\n",
       "      <td>云南</td>\n",
       "      <td>530000</td>\n",
       "      <td>3c974920a76ac9c1</td>\n",
       "      <td>SUV</td>\n",
       "      <td>2016</td>\n",
       "      <td>1</td>\n",
       "      <td>466</td>\n",
       "    </tr>\n",
       "    <tr>\n",
       "      <th>2</th>\n",
       "      <td>内蒙古</td>\n",
       "      <td>150000</td>\n",
       "      <td>3c974920a76ac9c1</td>\n",
       "      <td>SUV</td>\n",
       "      <td>2016</td>\n",
       "      <td>1</td>\n",
       "      <td>257</td>\n",
       "    </tr>\n",
       "    <tr>\n",
       "      <th>3</th>\n",
       "      <td>北京</td>\n",
       "      <td>110000</td>\n",
       "      <td>3c974920a76ac9c1</td>\n",
       "      <td>SUV</td>\n",
       "      <td>2016</td>\n",
       "      <td>1</td>\n",
       "      <td>408</td>\n",
       "    </tr>\n",
       "    <tr>\n",
       "      <th>4</th>\n",
       "      <td>四川</td>\n",
       "      <td>510000</td>\n",
       "      <td>3c974920a76ac9c1</td>\n",
       "      <td>SUV</td>\n",
       "      <td>2016</td>\n",
       "      <td>1</td>\n",
       "      <td>610</td>\n",
       "    </tr>\n",
       "    <tr>\n",
       "      <th>...</th>\n",
       "      <td>...</td>\n",
       "      <td>...</td>\n",
       "      <td>...</td>\n",
       "      <td>...</td>\n",
       "      <td>...</td>\n",
       "      <td>...</td>\n",
       "      <td>...</td>\n",
       "    </tr>\n",
       "    <tr>\n",
       "      <th>31675</th>\n",
       "      <td>福建</td>\n",
       "      <td>350000</td>\n",
       "      <td>a9a43d1a7ecbe75d</td>\n",
       "      <td>SUV</td>\n",
       "      <td>2017</td>\n",
       "      <td>12</td>\n",
       "      <td>112</td>\n",
       "    </tr>\n",
       "    <tr>\n",
       "      <th>31676</th>\n",
       "      <td>辽宁</td>\n",
       "      <td>210000</td>\n",
       "      <td>a9a43d1a7ecbe75d</td>\n",
       "      <td>SUV</td>\n",
       "      <td>2017</td>\n",
       "      <td>12</td>\n",
       "      <td>104</td>\n",
       "    </tr>\n",
       "    <tr>\n",
       "      <th>31677</th>\n",
       "      <td>重庆</td>\n",
       "      <td>500000</td>\n",
       "      <td>a9a43d1a7ecbe75d</td>\n",
       "      <td>SUV</td>\n",
       "      <td>2017</td>\n",
       "      <td>12</td>\n",
       "      <td>125</td>\n",
       "    </tr>\n",
       "    <tr>\n",
       "      <th>31678</th>\n",
       "      <td>陕西</td>\n",
       "      <td>610000</td>\n",
       "      <td>a9a43d1a7ecbe75d</td>\n",
       "      <td>SUV</td>\n",
       "      <td>2017</td>\n",
       "      <td>12</td>\n",
       "      <td>265</td>\n",
       "    </tr>\n",
       "    <tr>\n",
       "      <th>31679</th>\n",
       "      <td>黑龙江</td>\n",
       "      <td>230000</td>\n",
       "      <td>a9a43d1a7ecbe75d</td>\n",
       "      <td>SUV</td>\n",
       "      <td>2017</td>\n",
       "      <td>12</td>\n",
       "      <td>58</td>\n",
       "    </tr>\n",
       "  </tbody>\n",
       "</table>\n",
       "<p>31680 rows × 7 columns</p>\n",
       "</div>"
      ],
      "text/plain": [
       "      province  adcode             model bodyType  regYear  regMonth  \\\n",
       "0           上海  310000  3c974920a76ac9c1      SUV     2016         1   \n",
       "1           云南  530000  3c974920a76ac9c1      SUV     2016         1   \n",
       "2          内蒙古  150000  3c974920a76ac9c1      SUV     2016         1   \n",
       "3           北京  110000  3c974920a76ac9c1      SUV     2016         1   \n",
       "4           四川  510000  3c974920a76ac9c1      SUV     2016         1   \n",
       "...        ...     ...               ...      ...      ...       ...   \n",
       "31675       福建  350000  a9a43d1a7ecbe75d      SUV     2017        12   \n",
       "31676       辽宁  210000  a9a43d1a7ecbe75d      SUV     2017        12   \n",
       "31677       重庆  500000  a9a43d1a7ecbe75d      SUV     2017        12   \n",
       "31678       陕西  610000  a9a43d1a7ecbe75d      SUV     2017        12   \n",
       "31679      黑龙江  230000  a9a43d1a7ecbe75d      SUV     2017        12   \n",
       "\n",
       "       salesVolume  \n",
       "0              292  \n",
       "1              466  \n",
       "2              257  \n",
       "3              408  \n",
       "4              610  \n",
       "...            ...  \n",
       "31675          112  \n",
       "31676          104  \n",
       "31677          125  \n",
       "31678          265  \n",
       "31679           58  \n",
       "\n",
       "[31680 rows x 7 columns]"
      ]
     },
     "execution_count": 80,
     "metadata": {},
     "output_type": "execute_result"
    }
   ],
   "source": [
    "data "
   ]
  },
  {
   "cell_type": "code",
   "execution_count": 81,
   "metadata": {
    "pycharm": {
     "name": "#%%\n"
    }
   },
   "outputs": [],
   "source": [
    "xx = data.groupby([\"province\",\"bodyType\"]).sum()\n",
    "result = data['province'].unique()"
   ]
  },
  {
   "cell_type": "code",
   "execution_count": 82,
   "metadata": {
    "pycharm": {
     "name": "#%%\n"
    }
   },
   "outputs": [
    {
     "data": {
      "text/html": [
       "<div>\n",
       "<style scoped>\n",
       "    .dataframe tbody tr th:only-of-type {\n",
       "        vertical-align: middle;\n",
       "    }\n",
       "\n",
       "    .dataframe tbody tr th {\n",
       "        vertical-align: top;\n",
       "    }\n",
       "\n",
       "    .dataframe thead th {\n",
       "        text-align: right;\n",
       "    }\n",
       "</style>\n",
       "<table border=\"1\" class=\"dataframe\">\n",
       "  <thead>\n",
       "    <tr style=\"text-align: right;\">\n",
       "      <th></th>\n",
       "      <th></th>\n",
       "      <th>adcode</th>\n",
       "      <th>regYear</th>\n",
       "      <th>regMonth</th>\n",
       "      <th>salesVolume</th>\n",
       "    </tr>\n",
       "    <tr>\n",
       "      <th>province</th>\n",
       "      <th>bodyType</th>\n",
       "      <th></th>\n",
       "      <th></th>\n",
       "      <th></th>\n",
       "      <th></th>\n",
       "    </tr>\n",
       "  </thead>\n",
       "  <tbody>\n",
       "    <tr>\n",
       "      <th rowspan=\"4\" valign=\"top\">上海</th>\n",
       "      <th>Hatchback</th>\n",
       "      <td>22320000</td>\n",
       "      <td>145188</td>\n",
       "      <td>468</td>\n",
       "      <td>25921</td>\n",
       "    </tr>\n",
       "    <tr>\n",
       "      <th>MPV</th>\n",
       "      <td>37200000</td>\n",
       "      <td>241980</td>\n",
       "      <td>780</td>\n",
       "      <td>45287</td>\n",
       "    </tr>\n",
       "    <tr>\n",
       "      <th>SUV</th>\n",
       "      <td>186000000</td>\n",
       "      <td>1209900</td>\n",
       "      <td>3900</td>\n",
       "      <td>186237</td>\n",
       "    </tr>\n",
       "    <tr>\n",
       "      <th>Sedan</th>\n",
       "      <td>200880000</td>\n",
       "      <td>1306692</td>\n",
       "      <td>4212</td>\n",
       "      <td>300192</td>\n",
       "    </tr>\n",
       "    <tr>\n",
       "      <th>云南</th>\n",
       "      <th>Hatchback</th>\n",
       "      <td>38160000</td>\n",
       "      <td>145188</td>\n",
       "      <td>468</td>\n",
       "      <td>16024</td>\n",
       "    </tr>\n",
       "    <tr>\n",
       "      <th>...</th>\n",
       "      <th>...</th>\n",
       "      <td>...</td>\n",
       "      <td>...</td>\n",
       "      <td>...</td>\n",
       "      <td>...</td>\n",
       "    </tr>\n",
       "    <tr>\n",
       "      <th>陕西</th>\n",
       "      <th>Sedan</th>\n",
       "      <td>395280000</td>\n",
       "      <td>1306692</td>\n",
       "      <td>4212</td>\n",
       "      <td>294827</td>\n",
       "    </tr>\n",
       "    <tr>\n",
       "      <th rowspan=\"4\" valign=\"top\">黑龙江</th>\n",
       "      <th>Hatchback</th>\n",
       "      <td>16560000</td>\n",
       "      <td>145188</td>\n",
       "      <td>468</td>\n",
       "      <td>13195</td>\n",
       "    </tr>\n",
       "    <tr>\n",
       "      <th>MPV</th>\n",
       "      <td>27600000</td>\n",
       "      <td>241980</td>\n",
       "      <td>780</td>\n",
       "      <td>36684</td>\n",
       "    </tr>\n",
       "    <tr>\n",
       "      <th>SUV</th>\n",
       "      <td>138000000</td>\n",
       "      <td>1209900</td>\n",
       "      <td>3900</td>\n",
       "      <td>149430</td>\n",
       "    </tr>\n",
       "    <tr>\n",
       "      <th>Sedan</th>\n",
       "      <td>149040000</td>\n",
       "      <td>1306692</td>\n",
       "      <td>4212</td>\n",
       "      <td>206642</td>\n",
       "    </tr>\n",
       "  </tbody>\n",
       "</table>\n",
       "<p>88 rows × 4 columns</p>\n",
       "</div>"
      ],
      "text/plain": [
       "                       adcode  regYear  regMonth  salesVolume\n",
       "province bodyType                                            \n",
       "上海       Hatchback   22320000   145188       468        25921\n",
       "         MPV         37200000   241980       780        45287\n",
       "         SUV        186000000  1209900      3900       186237\n",
       "         Sedan      200880000  1306692      4212       300192\n",
       "云南       Hatchback   38160000   145188       468        16024\n",
       "...                       ...      ...       ...          ...\n",
       "陕西       Sedan      395280000  1306692      4212       294827\n",
       "黑龙江      Hatchback   16560000   145188       468        13195\n",
       "         MPV         27600000   241980       780        36684\n",
       "         SUV        138000000  1209900      3900       149430\n",
       "         Sedan      149040000  1306692      4212       206642\n",
       "\n",
       "[88 rows x 4 columns]"
      ]
     },
     "execution_count": 82,
     "metadata": {},
     "output_type": "execute_result"
    }
   ],
   "source": [
    "xx"
   ]
  },
  {
   "cell_type": "code",
   "execution_count": 83,
   "metadata": {
    "pycharm": {
     "name": "#%%\n"
    }
   },
   "outputs": [
    {
     "data": {
      "text/plain": [
       "186237"
      ]
     },
     "execution_count": 83,
     "metadata": {},
     "output_type": "execute_result"
    }
   ],
   "source": [
    "yy = xx['salesVolume']\n",
    "yy['上海','SUV']"
   ]
  },
  {
   "cell_type": "code",
   "execution_count": 84,
   "metadata": {
    "pycharm": {
     "name": "#%%\n"
    }
   },
   "outputs": [],
   "source": [
    "province = []\n",
    "xxx = []\n",
    "for i in result:\n",
    "    province.append(i)\n",
    "    xxx.append(yy[f'{i}','SUV'])"
   ]
  },
  {
   "cell_type": "code",
   "execution_count": 85,
   "metadata": {
    "pycharm": {
     "name": "#%%\n"
    }
   },
   "outputs": [
    {
     "data": {
      "text/plain": [
       "'e:\\\\PycharmProjects\\\\pythonProject\\\\5.html'"
      ]
     },
     "execution_count": 85,
     "metadata": {},
     "output_type": "execute_result"
    }
   ],
   "source": [
    "bar = (\n",
    "    Bar(init_opts=opts.InitOpts(theme=ThemeType.LIGHT))\n",
    "    .add_xaxis(province)\n",
    "    .add_yaxis(\"销量\",[186237, 198764, 154142, 225242, 390831, 288460, 491038, 160723, 821892, 144339, 563337, 206545, 418769, 484195, 490328, 343500, 335760, 188572, 206448, 191187, 203518, 149430])\n",
    "    .set_global_opts(title_opts=opts.TitleOpts(title=\"SUV销量\"))\n",
    ")\n",
    "bar.render('5.html')"
   ]
  },
  {
   "cell_type": "code",
   "execution_count": 86,
   "metadata": {
    "pycharm": {
     "name": "#%%\n"
    }
   },
   "outputs": [
    {
     "name": "stdout",
     "output_type": "stream",
     "text": [
      "[186237, 198764, 154142, 225242, 390831, 288460, 491038, 160723, 821892, 144339, 563337, 206545, 418769, 484195, 490328, 343500, 335760, 188572, 206448, 191187, 203518, 149430]\n",
      "['上海', '云南', '内蒙古', '北京', '四川', '安徽', '山东', '山西', '广东', '广西', '江苏', '江西', '河北', '河南', '浙江', '湖北', '湖南', '福建', '辽宁', '重庆', '陕西', '黑龙江']\n"
     ]
    }
   ],
   "source": [
    "print(xxx)\n",
    "print(province)"
   ]
  },
  {
   "cell_type": "code",
   "execution_count": 87,
   "metadata": {
    "pycharm": {
     "name": "#%%\n"
    }
   },
   "outputs": [
    {
     "data": {
      "text/plain": [
       "bodyType\n",
       "Hatchback     45396\n",
       "MPV          224519\n",
       "SUV          484195\n",
       "Sedan        716798\n",
       "Name: salesVolume, dtype: int64"
      ]
     },
     "execution_count": 87,
     "metadata": {},
     "output_type": "execute_result"
    }
   ],
   "source": [
    "yy['河南']"
   ]
  },
  {
   "cell_type": "code",
   "execution_count": 88,
   "metadata": {
    "pycharm": {
     "name": "#%%\n"
    }
   },
   "outputs": [
    {
     "name": "stdout",
     "output_type": "stream",
     "text": [
      "45396\n",
      "224519\n",
      "484195\n",
      "716798\n"
     ]
    }
   ],
   "source": [
    "for i in yy['河南']:\n",
    "    print(i)"
   ]
  },
  {
   "cell_type": "code",
   "execution_count": null,
   "metadata": {
    "pycharm": {
     "name": "#%%\n"
    }
   },
   "outputs": [],
   "source": []
  },
  {
   "cell_type": "code",
   "execution_count": 89,
   "metadata": {
    "pycharm": {
     "name": "#%%\n"
    }
   },
   "outputs": [],
   "source": [
    "from pyecharts.charts import Pie\n",
    "v1 = []\n",
    "for i in yy['河南']:\n",
    "    v1.append(i)\n",
    "attr = [\"Hatchback\", \"MPV\", \"SUV\", \"Sedan\"]\n",
    "c = (\n",
    "    Pie()\n",
    "    .add(\"\", [list(z) for z in zip(attr, v1)])\n",
    "    .set_global_opts(title_opts=opts.TitleOpts(title=\"河南\"))\n",
    "    .set_series_opts(label_opts=opts.LabelOpts(formatter=\"{b}: {c}\"))\n",
    "    .render(\"pie_base.html\")\n",
    ")\n"
   ]
  },
  {
   "cell_type": "code",
   "execution_count": 90,
   "metadata": {
    "pycharm": {
     "name": "#%%\n"
    }
   },
   "outputs": [],
   "source": [
    "zz = data.loc[data[\"province\"]==\"河南\"]\n",
    "zz = zz.loc[data['regYear'] == 2016]\n",
    "zz = zz.loc[data['regMonth']<=6]"
   ]
  },
  {
   "cell_type": "code",
   "execution_count": 91,
   "metadata": {
    "pycharm": {
     "name": "#%%\n"
    }
   },
   "outputs": [
    {
     "data": {
      "text/html": [
       "<div>\n",
       "<style scoped>\n",
       "    .dataframe tbody tr th:only-of-type {\n",
       "        vertical-align: middle;\n",
       "    }\n",
       "\n",
       "    .dataframe tbody tr th {\n",
       "        vertical-align: top;\n",
       "    }\n",
       "\n",
       "    .dataframe thead th {\n",
       "        text-align: right;\n",
       "    }\n",
       "</style>\n",
       "<table border=\"1\" class=\"dataframe\">\n",
       "  <thead>\n",
       "    <tr style=\"text-align: right;\">\n",
       "      <th></th>\n",
       "      <th>province</th>\n",
       "      <th>adcode</th>\n",
       "      <th>model</th>\n",
       "      <th>bodyType</th>\n",
       "      <th>regYear</th>\n",
       "      <th>regMonth</th>\n",
       "      <th>salesVolume</th>\n",
       "    </tr>\n",
       "  </thead>\n",
       "  <tbody>\n",
       "    <tr>\n",
       "      <th>13</th>\n",
       "      <td>河南</td>\n",
       "      <td>410000</td>\n",
       "      <td>3c974920a76ac9c1</td>\n",
       "      <td>SUV</td>\n",
       "      <td>2016</td>\n",
       "      <td>1</td>\n",
       "      <td>537</td>\n",
       "    </tr>\n",
       "    <tr>\n",
       "      <th>35</th>\n",
       "      <td>河南</td>\n",
       "      <td>410000</td>\n",
       "      <td>3d7554f1f56dd664</td>\n",
       "      <td>Sedan</td>\n",
       "      <td>2016</td>\n",
       "      <td>1</td>\n",
       "      <td>850</td>\n",
       "    </tr>\n",
       "    <tr>\n",
       "      <th>57</th>\n",
       "      <td>河南</td>\n",
       "      <td>410000</td>\n",
       "      <td>2d0d2c3403909fdb</td>\n",
       "      <td>SUV</td>\n",
       "      <td>2016</td>\n",
       "      <td>1</td>\n",
       "      <td>271</td>\n",
       "    </tr>\n",
       "    <tr>\n",
       "      <th>79</th>\n",
       "      <td>河南</td>\n",
       "      <td>410000</td>\n",
       "      <td>a28bb927b6fcb33c</td>\n",
       "      <td>Sedan</td>\n",
       "      <td>2016</td>\n",
       "      <td>1</td>\n",
       "      <td>455</td>\n",
       "    </tr>\n",
       "    <tr>\n",
       "      <th>101</th>\n",
       "      <td>河南</td>\n",
       "      <td>410000</td>\n",
       "      <td>17bc272c93f19d56</td>\n",
       "      <td>MPV</td>\n",
       "      <td>2016</td>\n",
       "      <td>1</td>\n",
       "      <td>7051</td>\n",
       "    </tr>\n",
       "    <tr>\n",
       "      <th>...</th>\n",
       "      <td>...</td>\n",
       "      <td>...</td>\n",
       "      <td>...</td>\n",
       "      <td>...</td>\n",
       "      <td>...</td>\n",
       "      <td>...</td>\n",
       "      <td>...</td>\n",
       "    </tr>\n",
       "    <tr>\n",
       "      <th>7823</th>\n",
       "      <td>河南</td>\n",
       "      <td>410000</td>\n",
       "      <td>feabbf46658382b9</td>\n",
       "      <td>SUV</td>\n",
       "      <td>2016</td>\n",
       "      <td>6</td>\n",
       "      <td>679</td>\n",
       "    </tr>\n",
       "    <tr>\n",
       "      <th>7845</th>\n",
       "      <td>河南</td>\n",
       "      <td>410000</td>\n",
       "      <td>f270f6a489c6a9d7</td>\n",
       "      <td>MPV</td>\n",
       "      <td>2016</td>\n",
       "      <td>6</td>\n",
       "      <td>847</td>\n",
       "    </tr>\n",
       "    <tr>\n",
       "      <th>7867</th>\n",
       "      <td>河南</td>\n",
       "      <td>410000</td>\n",
       "      <td>d0f245b8781e3631</td>\n",
       "      <td>Sedan</td>\n",
       "      <td>2016</td>\n",
       "      <td>6</td>\n",
       "      <td>645</td>\n",
       "    </tr>\n",
       "    <tr>\n",
       "      <th>7889</th>\n",
       "      <td>河南</td>\n",
       "      <td>410000</td>\n",
       "      <td>c6cd4e0e073f5ac2</td>\n",
       "      <td>Sedan</td>\n",
       "      <td>2016</td>\n",
       "      <td>6</td>\n",
       "      <td>1377</td>\n",
       "    </tr>\n",
       "    <tr>\n",
       "      <th>7911</th>\n",
       "      <td>河南</td>\n",
       "      <td>410000</td>\n",
       "      <td>a9a43d1a7ecbe75d</td>\n",
       "      <td>SUV</td>\n",
       "      <td>2016</td>\n",
       "      <td>6</td>\n",
       "      <td>126</td>\n",
       "    </tr>\n",
       "  </tbody>\n",
       "</table>\n",
       "<p>360 rows × 7 columns</p>\n",
       "</div>"
      ],
      "text/plain": [
       "     province  adcode             model bodyType  regYear  regMonth  \\\n",
       "13         河南  410000  3c974920a76ac9c1      SUV     2016         1   \n",
       "35         河南  410000  3d7554f1f56dd664    Sedan     2016         1   \n",
       "57         河南  410000  2d0d2c3403909fdb      SUV     2016         1   \n",
       "79         河南  410000  a28bb927b6fcb33c    Sedan     2016         1   \n",
       "101        河南  410000  17bc272c93f19d56      MPV     2016         1   \n",
       "...       ...     ...               ...      ...      ...       ...   \n",
       "7823       河南  410000  feabbf46658382b9      SUV     2016         6   \n",
       "7845       河南  410000  f270f6a489c6a9d7      MPV     2016         6   \n",
       "7867       河南  410000  d0f245b8781e3631    Sedan     2016         6   \n",
       "7889       河南  410000  c6cd4e0e073f5ac2    Sedan     2016         6   \n",
       "7911       河南  410000  a9a43d1a7ecbe75d      SUV     2016         6   \n",
       "\n",
       "      salesVolume  \n",
       "13            537  \n",
       "35            850  \n",
       "57            271  \n",
       "79            455  \n",
       "101          7051  \n",
       "...           ...  \n",
       "7823          679  \n",
       "7845          847  \n",
       "7867          645  \n",
       "7889         1377  \n",
       "7911          126  \n",
       "\n",
       "[360 rows x 7 columns]"
      ]
     },
     "execution_count": 91,
     "metadata": {},
     "output_type": "execute_result"
    }
   ],
   "source": [
    "zz"
   ]
  },
  {
   "cell_type": "code",
   "execution_count": 92,
   "metadata": {
    "pycharm": {
     "name": "#%%\n"
    }
   },
   "outputs": [],
   "source": [
    "zz1 = data.loc[data[\"province\"]==\"河南\"]\n",
    "zz1 = zz1.loc[data['regYear'] == 2017]\n",
    "zz1 = zz1.loc[data['regMonth']<=6]"
   ]
  },
  {
   "cell_type": "code",
   "execution_count": 93,
   "metadata": {
    "pycharm": {
     "name": "#%%\n"
    }
   },
   "outputs": [],
   "source": [
    "hn = zz.groupby([\"bodyType\",'regMonth']).sum()"
   ]
  },
  {
   "cell_type": "code",
   "execution_count": 94,
   "metadata": {
    "pycharm": {
     "name": "#%%\n"
    }
   },
   "outputs": [
    {
     "data": {
      "text/html": [
       "<div>\n",
       "<style scoped>\n",
       "    .dataframe tbody tr th:only-of-type {\n",
       "        vertical-align: middle;\n",
       "    }\n",
       "\n",
       "    .dataframe tbody tr th {\n",
       "        vertical-align: top;\n",
       "    }\n",
       "\n",
       "    .dataframe thead th {\n",
       "        text-align: right;\n",
       "    }\n",
       "</style>\n",
       "<table border=\"1\" class=\"dataframe\">\n",
       "  <thead>\n",
       "    <tr style=\"text-align: right;\">\n",
       "      <th></th>\n",
       "      <th></th>\n",
       "      <th>adcode</th>\n",
       "      <th>regYear</th>\n",
       "      <th>salesVolume</th>\n",
       "    </tr>\n",
       "    <tr>\n",
       "      <th>bodyType</th>\n",
       "      <th>regMonth</th>\n",
       "      <th></th>\n",
       "      <th></th>\n",
       "      <th></th>\n",
       "    </tr>\n",
       "  </thead>\n",
       "  <tbody>\n",
       "    <tr>\n",
       "      <th rowspan=\"6\" valign=\"top\">Hatchback</th>\n",
       "      <th>1</th>\n",
       "      <td>1230000</td>\n",
       "      <td>6048</td>\n",
       "      <td>2206</td>\n",
       "    </tr>\n",
       "    <tr>\n",
       "      <th>2</th>\n",
       "      <td>1230000</td>\n",
       "      <td>6048</td>\n",
       "      <td>1112</td>\n",
       "    </tr>\n",
       "    <tr>\n",
       "      <th>3</th>\n",
       "      <td>1230000</td>\n",
       "      <td>6048</td>\n",
       "      <td>1954</td>\n",
       "    </tr>\n",
       "    <tr>\n",
       "      <th>4</th>\n",
       "      <td>1230000</td>\n",
       "      <td>6048</td>\n",
       "      <td>1822</td>\n",
       "    </tr>\n",
       "    <tr>\n",
       "      <th>5</th>\n",
       "      <td>1230000</td>\n",
       "      <td>6048</td>\n",
       "      <td>1776</td>\n",
       "    </tr>\n",
       "    <tr>\n",
       "      <th>6</th>\n",
       "      <td>1230000</td>\n",
       "      <td>6048</td>\n",
       "      <td>1715</td>\n",
       "    </tr>\n",
       "    <tr>\n",
       "      <th rowspan=\"6\" valign=\"top\">MPV</th>\n",
       "      <th>1</th>\n",
       "      <td>2050000</td>\n",
       "      <td>10080</td>\n",
       "      <td>16907</td>\n",
       "    </tr>\n",
       "    <tr>\n",
       "      <th>2</th>\n",
       "      <td>2050000</td>\n",
       "      <td>10080</td>\n",
       "      <td>9554</td>\n",
       "    </tr>\n",
       "    <tr>\n",
       "      <th>3</th>\n",
       "      <td>2050000</td>\n",
       "      <td>10080</td>\n",
       "      <td>7911</td>\n",
       "    </tr>\n",
       "    <tr>\n",
       "      <th>4</th>\n",
       "      <td>2050000</td>\n",
       "      <td>10080</td>\n",
       "      <td>6985</td>\n",
       "    </tr>\n",
       "    <tr>\n",
       "      <th>5</th>\n",
       "      <td>2050000</td>\n",
       "      <td>10080</td>\n",
       "      <td>8396</td>\n",
       "    </tr>\n",
       "    <tr>\n",
       "      <th>6</th>\n",
       "      <td>2050000</td>\n",
       "      <td>10080</td>\n",
       "      <td>7729</td>\n",
       "    </tr>\n",
       "    <tr>\n",
       "      <th rowspan=\"6\" valign=\"top\">SUV</th>\n",
       "      <th>1</th>\n",
       "      <td>10250000</td>\n",
       "      <td>50400</td>\n",
       "      <td>27065</td>\n",
       "    </tr>\n",
       "    <tr>\n",
       "      <th>2</th>\n",
       "      <td>10250000</td>\n",
       "      <td>50400</td>\n",
       "      <td>12492</td>\n",
       "    </tr>\n",
       "    <tr>\n",
       "      <th>3</th>\n",
       "      <td>10250000</td>\n",
       "      <td>50400</td>\n",
       "      <td>14009</td>\n",
       "    </tr>\n",
       "    <tr>\n",
       "      <th>4</th>\n",
       "      <td>10250000</td>\n",
       "      <td>50400</td>\n",
       "      <td>16908</td>\n",
       "    </tr>\n",
       "    <tr>\n",
       "      <th>5</th>\n",
       "      <td>10250000</td>\n",
       "      <td>50400</td>\n",
       "      <td>16370</td>\n",
       "    </tr>\n",
       "    <tr>\n",
       "      <th>6</th>\n",
       "      <td>10250000</td>\n",
       "      <td>50400</td>\n",
       "      <td>16505</td>\n",
       "    </tr>\n",
       "    <tr>\n",
       "      <th rowspan=\"6\" valign=\"top\">Sedan</th>\n",
       "      <th>1</th>\n",
       "      <td>11070000</td>\n",
       "      <td>54432</td>\n",
       "      <td>40989</td>\n",
       "    </tr>\n",
       "    <tr>\n",
       "      <th>2</th>\n",
       "      <td>11070000</td>\n",
       "      <td>54432</td>\n",
       "      <td>18767</td>\n",
       "    </tr>\n",
       "    <tr>\n",
       "      <th>3</th>\n",
       "      <td>11070000</td>\n",
       "      <td>54432</td>\n",
       "      <td>21185</td>\n",
       "    </tr>\n",
       "    <tr>\n",
       "      <th>4</th>\n",
       "      <td>11070000</td>\n",
       "      <td>54432</td>\n",
       "      <td>24908</td>\n",
       "    </tr>\n",
       "    <tr>\n",
       "      <th>5</th>\n",
       "      <td>11070000</td>\n",
       "      <td>54432</td>\n",
       "      <td>24186</td>\n",
       "    </tr>\n",
       "    <tr>\n",
       "      <th>6</th>\n",
       "      <td>11070000</td>\n",
       "      <td>54432</td>\n",
       "      <td>24634</td>\n",
       "    </tr>\n",
       "  </tbody>\n",
       "</table>\n",
       "</div>"
      ],
      "text/plain": [
       "                      adcode  regYear  salesVolume\n",
       "bodyType  regMonth                                \n",
       "Hatchback 1          1230000     6048         2206\n",
       "          2          1230000     6048         1112\n",
       "          3          1230000     6048         1954\n",
       "          4          1230000     6048         1822\n",
       "          5          1230000     6048         1776\n",
       "          6          1230000     6048         1715\n",
       "MPV       1          2050000    10080        16907\n",
       "          2          2050000    10080         9554\n",
       "          3          2050000    10080         7911\n",
       "          4          2050000    10080         6985\n",
       "          5          2050000    10080         8396\n",
       "          6          2050000    10080         7729\n",
       "SUV       1         10250000    50400        27065\n",
       "          2         10250000    50400        12492\n",
       "          3         10250000    50400        14009\n",
       "          4         10250000    50400        16908\n",
       "          5         10250000    50400        16370\n",
       "          6         10250000    50400        16505\n",
       "Sedan     1         11070000    54432        40989\n",
       "          2         11070000    54432        18767\n",
       "          3         11070000    54432        21185\n",
       "          4         11070000    54432        24908\n",
       "          5         11070000    54432        24186\n",
       "          6         11070000    54432        24634"
      ]
     },
     "execution_count": 94,
     "metadata": {},
     "output_type": "execute_result"
    }
   ],
   "source": [
    "hn"
   ]
  },
  {
   "cell_type": "code",
   "execution_count": 95,
   "metadata": {
    "pycharm": {
     "name": "#%%\n"
    }
   },
   "outputs": [],
   "source": [
    "hn1 = hn['salesVolume']"
   ]
  },
  {
   "cell_type": "code",
   "execution_count": 96,
   "metadata": {
    "pycharm": {
     "name": "#%%\n"
    }
   },
   "outputs": [
    {
     "data": {
      "text/plain": [
       "bodyType   regMonth\n",
       "Hatchback  1            2206\n",
       "           2            1112\n",
       "           3            1954\n",
       "           4            1822\n",
       "           5            1776\n",
       "           6            1715\n",
       "MPV        1           16907\n",
       "           2            9554\n",
       "           3            7911\n",
       "           4            6985\n",
       "           5            8396\n",
       "           6            7729\n",
       "SUV        1           27065\n",
       "           2           12492\n",
       "           3           14009\n",
       "           4           16908\n",
       "           5           16370\n",
       "           6           16505\n",
       "Sedan      1           40989\n",
       "           2           18767\n",
       "           3           21185\n",
       "           4           24908\n",
       "           5           24186\n",
       "           6           24634\n",
       "Name: salesVolume, dtype: int64"
      ]
     },
     "execution_count": 96,
     "metadata": {},
     "output_type": "execute_result"
    }
   ],
   "source": [
    "hn1"
   ]
  },
  {
   "cell_type": "code",
   "execution_count": 97,
   "metadata": {
    "pycharm": {
     "name": "#%%\n"
    }
   },
   "outputs": [],
   "source": [
    "hn1\n",
    "SUV = []\n",
    "MPV =[]\n",
    "Sedan = []\n",
    "for i in hn1['SUV']:\n",
    "    SUV.append(i)\n",
    "for i in hn1['MPV']:\n",
    "    MPV.append(i)\n",
    "for i in hn1['Sedan']:\n",
    "    Sedan.append(i)"
   ]
  },
  {
   "cell_type": "code",
   "execution_count": 98,
   "metadata": {
    "pycharm": {
     "name": "#%%\n"
    }
   },
   "outputs": [
    {
     "name": "stdout",
     "output_type": "stream",
     "text": [
      "[27065, 12492, 14009, 16908, 16370, 16505]\n"
     ]
    }
   ],
   "source": [
    "print(SUV)"
   ]
  },
  {
   "cell_type": "code",
   "execution_count": 99,
   "metadata": {
    "pycharm": {
     "name": "#%%\n"
    }
   },
   "outputs": [
    {
     "data": {
      "text/plain": [
       "'e:\\\\PycharmProjects\\\\pythonProject\\\\zzzzz.html'"
      ]
     },
     "execution_count": 99,
     "metadata": {},
     "output_type": "execute_result"
    }
   ],
   "source": [
    "import pyecharts.charts as pyec\n",
    "import pyecharts.options as opts\n",
    "from pyecharts.globals import ThemeType\n",
    "x = ['1','2','3','4','5','6']\n",
    "y1 = SUV\n",
    "y2 = MPV\n",
    "y3 = Sedan\n",
    "bar = pyec.Bar()\n",
    "bar.add_xaxis(x)\n",
    "bar.add_yaxis(series_name='SUV',y_axis=y1)\n",
    "bar.add_yaxis(series_name='MPV',y_axis=y2)\n",
    "bar.add_yaxis(series_name='Sedan',y_axis=y3)\n",
    "bar.render_notebook()\n",
    "bar.render(\"zzzzz.html\")"
   ]
  },
  {
   "cell_type": "code",
   "execution_count": 106,
   "metadata": {
    "pycharm": {
     "name": "#%%\n"
    }
   },
   "outputs": [
    {
     "data": {
      "text/html": [
       "<div>\n",
       "<style scoped>\n",
       "    .dataframe tbody tr th:only-of-type {\n",
       "        vertical-align: middle;\n",
       "    }\n",
       "\n",
       "    .dataframe tbody tr th {\n",
       "        vertical-align: top;\n",
       "    }\n",
       "\n",
       "    .dataframe thead th {\n",
       "        text-align: right;\n",
       "    }\n",
       "</style>\n",
       "<table border=\"1\" class=\"dataframe\">\n",
       "  <thead>\n",
       "    <tr style=\"text-align: right;\">\n",
       "      <th></th>\n",
       "      <th>province</th>\n",
       "      <th>adcode</th>\n",
       "      <th>model</th>\n",
       "      <th>bodyType</th>\n",
       "      <th>regYear</th>\n",
       "      <th>regMonth</th>\n",
       "      <th>salesVolume</th>\n",
       "    </tr>\n",
       "  </thead>\n",
       "  <tbody>\n",
       "    <tr>\n",
       "      <th>13</th>\n",
       "      <td>河南</td>\n",
       "      <td>410000</td>\n",
       "      <td>3c974920a76ac9c1</td>\n",
       "      <td>SUV</td>\n",
       "      <td>2016</td>\n",
       "      <td>1</td>\n",
       "      <td>537</td>\n",
       "    </tr>\n",
       "    <tr>\n",
       "      <th>35</th>\n",
       "      <td>河南</td>\n",
       "      <td>410000</td>\n",
       "      <td>3d7554f1f56dd664</td>\n",
       "      <td>Sedan</td>\n",
       "      <td>2016</td>\n",
       "      <td>1</td>\n",
       "      <td>850</td>\n",
       "    </tr>\n",
       "    <tr>\n",
       "      <th>57</th>\n",
       "      <td>河南</td>\n",
       "      <td>410000</td>\n",
       "      <td>2d0d2c3403909fdb</td>\n",
       "      <td>SUV</td>\n",
       "      <td>2016</td>\n",
       "      <td>1</td>\n",
       "      <td>271</td>\n",
       "    </tr>\n",
       "    <tr>\n",
       "      <th>79</th>\n",
       "      <td>河南</td>\n",
       "      <td>410000</td>\n",
       "      <td>a28bb927b6fcb33c</td>\n",
       "      <td>Sedan</td>\n",
       "      <td>2016</td>\n",
       "      <td>1</td>\n",
       "      <td>455</td>\n",
       "    </tr>\n",
       "    <tr>\n",
       "      <th>101</th>\n",
       "      <td>河南</td>\n",
       "      <td>410000</td>\n",
       "      <td>17bc272c93f19d56</td>\n",
       "      <td>MPV</td>\n",
       "      <td>2016</td>\n",
       "      <td>1</td>\n",
       "      <td>7051</td>\n",
       "    </tr>\n",
       "    <tr>\n",
       "      <th>...</th>\n",
       "      <td>...</td>\n",
       "      <td>...</td>\n",
       "      <td>...</td>\n",
       "      <td>...</td>\n",
       "      <td>...</td>\n",
       "      <td>...</td>\n",
       "      <td>...</td>\n",
       "    </tr>\n",
       "    <tr>\n",
       "      <th>7823</th>\n",
       "      <td>河南</td>\n",
       "      <td>410000</td>\n",
       "      <td>feabbf46658382b9</td>\n",
       "      <td>SUV</td>\n",
       "      <td>2016</td>\n",
       "      <td>6</td>\n",
       "      <td>679</td>\n",
       "    </tr>\n",
       "    <tr>\n",
       "      <th>7845</th>\n",
       "      <td>河南</td>\n",
       "      <td>410000</td>\n",
       "      <td>f270f6a489c6a9d7</td>\n",
       "      <td>MPV</td>\n",
       "      <td>2016</td>\n",
       "      <td>6</td>\n",
       "      <td>847</td>\n",
       "    </tr>\n",
       "    <tr>\n",
       "      <th>7867</th>\n",
       "      <td>河南</td>\n",
       "      <td>410000</td>\n",
       "      <td>d0f245b8781e3631</td>\n",
       "      <td>Sedan</td>\n",
       "      <td>2016</td>\n",
       "      <td>6</td>\n",
       "      <td>645</td>\n",
       "    </tr>\n",
       "    <tr>\n",
       "      <th>7889</th>\n",
       "      <td>河南</td>\n",
       "      <td>410000</td>\n",
       "      <td>c6cd4e0e073f5ac2</td>\n",
       "      <td>Sedan</td>\n",
       "      <td>2016</td>\n",
       "      <td>6</td>\n",
       "      <td>1377</td>\n",
       "    </tr>\n",
       "    <tr>\n",
       "      <th>7911</th>\n",
       "      <td>河南</td>\n",
       "      <td>410000</td>\n",
       "      <td>a9a43d1a7ecbe75d</td>\n",
       "      <td>SUV</td>\n",
       "      <td>2016</td>\n",
       "      <td>6</td>\n",
       "      <td>126</td>\n",
       "    </tr>\n",
       "  </tbody>\n",
       "</table>\n",
       "<p>360 rows × 7 columns</p>\n",
       "</div>"
      ],
      "text/plain": [
       "     province  adcode             model bodyType  regYear  regMonth  \\\n",
       "13         河南  410000  3c974920a76ac9c1      SUV     2016         1   \n",
       "35         河南  410000  3d7554f1f56dd664    Sedan     2016         1   \n",
       "57         河南  410000  2d0d2c3403909fdb      SUV     2016         1   \n",
       "79         河南  410000  a28bb927b6fcb33c    Sedan     2016         1   \n",
       "101        河南  410000  17bc272c93f19d56      MPV     2016         1   \n",
       "...       ...     ...               ...      ...      ...       ...   \n",
       "7823       河南  410000  feabbf46658382b9      SUV     2016         6   \n",
       "7845       河南  410000  f270f6a489c6a9d7      MPV     2016         6   \n",
       "7867       河南  410000  d0f245b8781e3631    Sedan     2016         6   \n",
       "7889       河南  410000  c6cd4e0e073f5ac2    Sedan     2016         6   \n",
       "7911       河南  410000  a9a43d1a7ecbe75d      SUV     2016         6   \n",
       "\n",
       "      salesVolume  \n",
       "13            537  \n",
       "35            850  \n",
       "57            271  \n",
       "79            455  \n",
       "101          7051  \n",
       "...           ...  \n",
       "7823          679  \n",
       "7845          847  \n",
       "7867          645  \n",
       "7889         1377  \n",
       "7911          126  \n",
       "\n",
       "[360 rows x 7 columns]"
      ]
     },
     "execution_count": 106,
     "metadata": {},
     "output_type": "execute_result"
    }
   ],
   "source": [
    "zz"
   ]
  },
  {
   "cell_type": "code",
   "execution_count": 114,
   "metadata": {
    "pycharm": {
     "name": "#%%\n"
    }
   },
   "outputs": [
    {
     "data": {
      "text/html": [
       "<div>\n",
       "<style scoped>\n",
       "    .dataframe tbody tr th:only-of-type {\n",
       "        vertical-align: middle;\n",
       "    }\n",
       "\n",
       "    .dataframe tbody tr th {\n",
       "        vertical-align: top;\n",
       "    }\n",
       "\n",
       "    .dataframe thead th {\n",
       "        text-align: right;\n",
       "    }\n",
       "</style>\n",
       "<table border=\"1\" class=\"dataframe\">\n",
       "  <thead>\n",
       "    <tr style=\"text-align: right;\">\n",
       "      <th></th>\n",
       "      <th></th>\n",
       "      <th>adcode</th>\n",
       "      <th>regYear</th>\n",
       "      <th>salesVolume</th>\n",
       "    </tr>\n",
       "    <tr>\n",
       "      <th>bodyType</th>\n",
       "      <th>regMonth</th>\n",
       "      <th></th>\n",
       "      <th></th>\n",
       "      <th></th>\n",
       "    </tr>\n",
       "  </thead>\n",
       "  <tbody>\n",
       "    <tr>\n",
       "      <th rowspan=\"6\" valign=\"top\">Hatchback</th>\n",
       "      <th>1</th>\n",
       "      <td>1230000</td>\n",
       "      <td>6048</td>\n",
       "      <td>2206</td>\n",
       "    </tr>\n",
       "    <tr>\n",
       "      <th>2</th>\n",
       "      <td>1230000</td>\n",
       "      <td>6048</td>\n",
       "      <td>1112</td>\n",
       "    </tr>\n",
       "    <tr>\n",
       "      <th>3</th>\n",
       "      <td>1230000</td>\n",
       "      <td>6048</td>\n",
       "      <td>1954</td>\n",
       "    </tr>\n",
       "    <tr>\n",
       "      <th>4</th>\n",
       "      <td>1230000</td>\n",
       "      <td>6048</td>\n",
       "      <td>1822</td>\n",
       "    </tr>\n",
       "    <tr>\n",
       "      <th>5</th>\n",
       "      <td>1230000</td>\n",
       "      <td>6048</td>\n",
       "      <td>1776</td>\n",
       "    </tr>\n",
       "    <tr>\n",
       "      <th>6</th>\n",
       "      <td>1230000</td>\n",
       "      <td>6048</td>\n",
       "      <td>1715</td>\n",
       "    </tr>\n",
       "    <tr>\n",
       "      <th rowspan=\"6\" valign=\"top\">MPV</th>\n",
       "      <th>1</th>\n",
       "      <td>2050000</td>\n",
       "      <td>10080</td>\n",
       "      <td>16907</td>\n",
       "    </tr>\n",
       "    <tr>\n",
       "      <th>2</th>\n",
       "      <td>2050000</td>\n",
       "      <td>10080</td>\n",
       "      <td>9554</td>\n",
       "    </tr>\n",
       "    <tr>\n",
       "      <th>3</th>\n",
       "      <td>2050000</td>\n",
       "      <td>10080</td>\n",
       "      <td>7911</td>\n",
       "    </tr>\n",
       "    <tr>\n",
       "      <th>4</th>\n",
       "      <td>2050000</td>\n",
       "      <td>10080</td>\n",
       "      <td>6985</td>\n",
       "    </tr>\n",
       "    <tr>\n",
       "      <th>5</th>\n",
       "      <td>2050000</td>\n",
       "      <td>10080</td>\n",
       "      <td>8396</td>\n",
       "    </tr>\n",
       "    <tr>\n",
       "      <th>6</th>\n",
       "      <td>2050000</td>\n",
       "      <td>10080</td>\n",
       "      <td>7729</td>\n",
       "    </tr>\n",
       "    <tr>\n",
       "      <th rowspan=\"6\" valign=\"top\">SUV</th>\n",
       "      <th>1</th>\n",
       "      <td>10250000</td>\n",
       "      <td>50400</td>\n",
       "      <td>27065</td>\n",
       "    </tr>\n",
       "    <tr>\n",
       "      <th>2</th>\n",
       "      <td>10250000</td>\n",
       "      <td>50400</td>\n",
       "      <td>12492</td>\n",
       "    </tr>\n",
       "    <tr>\n",
       "      <th>3</th>\n",
       "      <td>10250000</td>\n",
       "      <td>50400</td>\n",
       "      <td>14009</td>\n",
       "    </tr>\n",
       "    <tr>\n",
       "      <th>4</th>\n",
       "      <td>10250000</td>\n",
       "      <td>50400</td>\n",
       "      <td>16908</td>\n",
       "    </tr>\n",
       "    <tr>\n",
       "      <th>5</th>\n",
       "      <td>10250000</td>\n",
       "      <td>50400</td>\n",
       "      <td>16370</td>\n",
       "    </tr>\n",
       "    <tr>\n",
       "      <th>6</th>\n",
       "      <td>10250000</td>\n",
       "      <td>50400</td>\n",
       "      <td>16505</td>\n",
       "    </tr>\n",
       "    <tr>\n",
       "      <th rowspan=\"6\" valign=\"top\">Sedan</th>\n",
       "      <th>1</th>\n",
       "      <td>11070000</td>\n",
       "      <td>54432</td>\n",
       "      <td>40989</td>\n",
       "    </tr>\n",
       "    <tr>\n",
       "      <th>2</th>\n",
       "      <td>11070000</td>\n",
       "      <td>54432</td>\n",
       "      <td>18767</td>\n",
       "    </tr>\n",
       "    <tr>\n",
       "      <th>3</th>\n",
       "      <td>11070000</td>\n",
       "      <td>54432</td>\n",
       "      <td>21185</td>\n",
       "    </tr>\n",
       "    <tr>\n",
       "      <th>4</th>\n",
       "      <td>11070000</td>\n",
       "      <td>54432</td>\n",
       "      <td>24908</td>\n",
       "    </tr>\n",
       "    <tr>\n",
       "      <th>5</th>\n",
       "      <td>11070000</td>\n",
       "      <td>54432</td>\n",
       "      <td>24186</td>\n",
       "    </tr>\n",
       "    <tr>\n",
       "      <th>6</th>\n",
       "      <td>11070000</td>\n",
       "      <td>54432</td>\n",
       "      <td>24634</td>\n",
       "    </tr>\n",
       "  </tbody>\n",
       "</table>\n",
       "</div>"
      ],
      "text/plain": [
       "                      adcode  regYear  salesVolume\n",
       "bodyType  regMonth                                \n",
       "Hatchback 1          1230000     6048         2206\n",
       "          2          1230000     6048         1112\n",
       "          3          1230000     6048         1954\n",
       "          4          1230000     6048         1822\n",
       "          5          1230000     6048         1776\n",
       "          6          1230000     6048         1715\n",
       "MPV       1          2050000    10080        16907\n",
       "          2          2050000    10080         9554\n",
       "          3          2050000    10080         7911\n",
       "          4          2050000    10080         6985\n",
       "          5          2050000    10080         8396\n",
       "          6          2050000    10080         7729\n",
       "SUV       1         10250000    50400        27065\n",
       "          2         10250000    50400        12492\n",
       "          3         10250000    50400        14009\n",
       "          4         10250000    50400        16908\n",
       "          5         10250000    50400        16370\n",
       "          6         10250000    50400        16505\n",
       "Sedan     1         11070000    54432        40989\n",
       "          2         11070000    54432        18767\n",
       "          3         11070000    54432        21185\n",
       "          4         11070000    54432        24908\n",
       "          5         11070000    54432        24186\n",
       "          6         11070000    54432        24634"
      ]
     },
     "execution_count": 114,
     "metadata": {},
     "output_type": "execute_result"
    }
   ],
   "source": [
    "hn1"
   ]
  },
  {
   "cell_type": "code",
   "execution_count": 117,
   "metadata": {
    "pycharm": {
     "name": "#%%\n"
    }
   },
   "outputs": [],
   "source": [
    "hn2 = hn2[\"salesVolume\"]"
   ]
  },
  {
   "cell_type": "code",
   "execution_count": 129,
   "metadata": {
    "pycharm": {
     "name": "#%%\n"
    }
   },
   "outputs": [],
   "source": [
    "SUV1 = []\n",
    "MPV1 =[]\n",
    "Sedan1 = []\n",
    "for i in hn2['SUV']:\n",
    "    SUV1.append(i)\n",
    "for i in hn2['MPV']:\n",
    "    MPV1.append(i)\n",
    "for i in hn2['Sedan']:\n",
    "    Sedan1.append(i)"
   ]
  },
  {
   "cell_type": "code",
   "execution_count": 131,
   "metadata": {
    "pycharm": {
     "name": "#%%\n"
    }
   },
   "outputs": [
    {
     "data": {
      "text/plain": [
       "[25122, 10464, 15423, 17129, 17360, 17129]"
      ]
     },
     "execution_count": 131,
     "metadata": {},
     "output_type": "execute_result"
    }
   ],
   "source": [
    "SUV1"
   ]
  },
  {
   "cell_type": "code",
   "execution_count": 133,
   "metadata": {
    "pycharm": {
     "name": "#%%\n"
    }
   },
   "outputs": [],
   "source": [
    "from pyecharts.charts import Scatter\n",
    "from pyecharts.faker import Faker\n",
    "x = ['1','2','3','4','5','6']\n",
    "c = (\n",
    "    Scatter()\n",
    "    .add_xaxis(x)\n",
    "    .add_yaxis(\"suv\", SUV)\n",
    "    .add_yaxis(\"sedan\", Sedan)\n",
    "    .add_yaxis(\"suv1\", SUV1)\n",
    "    .add_yaxis(\"sedan1\", Sedan1)\n",
    "    .set_global_opts(\n",
    "        title_opts=opts.TitleOpts(title=\"zzzz\"),\n",
    "        \n",
    "        visualmap_opts=opts.VisualMapOpts(\n",
    "            type_=\"size\",  #映射大小\n",
    "            max_=150000,\n",
    "            min_=20,\n",
    "            pos_bottom = 50,pos_right = 0),\n",
    "    )\n",
    "    .render(\"scatter_visualmap_size.html\")\n",
    "    \n",
    ")\n",
    "\n"
   ]
  },
  {
   "cell_type": "code",
   "execution_count": 100,
   "metadata": {
    "pycharm": {
     "name": "#%%\n"
    }
   },
   "outputs": [],
   "source": [
    "data1 = data.loc[data['regYear']==2016]"
   ]
  },
  {
   "cell_type": "code",
   "execution_count": 101,
   "metadata": {
    "pycharm": {
     "name": "#%%\n"
    }
   },
   "outputs": [],
   "source": [
    "x1 = data1.groupby([\"province\"]).sum()\n",
    "result1 = data1['province'].unique()"
   ]
  },
  {
   "cell_type": "code",
   "execution_count": 102,
   "metadata": {
    "pycharm": {
     "name": "#%%\n"
    }
   },
   "outputs": [],
   "source": [
    "y1 = x1['salesVolume']"
   ]
  },
  {
   "cell_type": "code",
   "execution_count": 103,
   "metadata": {
    "pycharm": {
     "name": "#%%\n"
    }
   },
   "outputs": [],
   "source": [
    "dataa = []\n",
    "for i in range(len(y1)):\n",
    "    ss = (province[i],int(y1[i]))\n",
    "    dataa.append(ss)"
   ]
  },
  {
   "cell_type": "code",
   "execution_count": 104,
   "metadata": {
    "pycharm": {
     "name": "#%%\n"
    }
   },
   "outputs": [
    {
     "data": {
      "text/plain": [
       "[('上海', 297494),\n",
       " ('云南', 279162),\n",
       " ('内蒙古', 179316),\n",
       " ('北京', 359146),\n",
       " ('四川', 550626),\n",
       " ('安徽', 411830),\n",
       " ('山东', 854127),\n",
       " ('山西', 265376),\n",
       " ('广东', 1104134),\n",
       " ('广西', 250426),\n",
       " ('江苏', 904270),\n",
       " ('江西', 283396),\n",
       " ('河北', 667250),\n",
       " ('河南', 749853),\n",
       " ('浙江', 698823),\n",
       " ('湖北', 397967),\n",
       " ('湖南', 446622),\n",
       " ('福建', 278469),\n",
       " ('辽宁', 328400),\n",
       " ('重庆', 240366),\n",
       " ('陕西', 297537),\n",
       " ('黑龙江', 208868)]"
      ]
     },
     "execution_count": 104,
     "metadata": {},
     "output_type": "execute_result"
    }
   ],
   "source": [
    "dataa"
   ]
  },
  {
   "cell_type": "code",
   "execution_count": null,
   "metadata": {
    "pycharm": {
     "name": "#%%\n"
    }
   },
   "outputs": [],
   "source": []
  },
  {
   "cell_type": "code",
   "execution_count": null,
   "metadata": {
    "pycharm": {
     "name": "#%%\n"
    }
   },
   "outputs": [],
   "source": []
  },
  {
   "cell_type": "code",
   "execution_count": 105,
   "metadata": {
    "pycharm": {
     "name": "#%%\n"
    }
   },
   "outputs": [
    {
     "data": {
      "text/html": [
       "\n",
       "<script>\n",
       "    require.config({\n",
       "        paths: {\n",
       "            'echarts':'https://assets.pyecharts.org/assets/echarts.min', 'china':'https://assets.pyecharts.org/assets/maps/china'\n",
       "        }\n",
       "    });\n",
       "</script>\n",
       "\n",
       "        <div id=\"c8963618a3124e898aeae822d232a6c8\" style=\"width:900px; height:500px;\"></div>\n",
       "\n",
       "<script>\n",
       "        require(['echarts', 'china'], function(echarts) {\n",
       "                var chart_c8963618a3124e898aeae822d232a6c8 = echarts.init(\n",
       "                    document.getElementById('c8963618a3124e898aeae822d232a6c8'), 'white', {renderer: 'canvas'});\n",
       "                var option_c8963618a3124e898aeae822d232a6c8 = {\n",
       "    \"animation\": true,\n",
       "    \"animationThreshold\": 2000,\n",
       "    \"animationDuration\": 1000,\n",
       "    \"animationEasing\": \"cubicOut\",\n",
       "    \"animationDelay\": 0,\n",
       "    \"animationDurationUpdate\": 300,\n",
       "    \"animationEasingUpdate\": \"cubicOut\",\n",
       "    \"animationDelayUpdate\": 0,\n",
       "    \"color\": [\n",
       "        \"#c23531\",\n",
       "        \"#2f4554\",\n",
       "        \"#61a0a8\",\n",
       "        \"#d48265\",\n",
       "        \"#749f83\",\n",
       "        \"#ca8622\",\n",
       "        \"#bda29a\",\n",
       "        \"#6e7074\",\n",
       "        \"#546570\",\n",
       "        \"#c4ccd3\",\n",
       "        \"#f05b72\",\n",
       "        \"#ef5b9c\",\n",
       "        \"#f47920\",\n",
       "        \"#905a3d\",\n",
       "        \"#fab27b\",\n",
       "        \"#2a5caa\",\n",
       "        \"#444693\",\n",
       "        \"#726930\",\n",
       "        \"#b2d235\",\n",
       "        \"#6d8346\",\n",
       "        \"#ac6767\",\n",
       "        \"#1d953f\",\n",
       "        \"#6950a1\",\n",
       "        \"#918597\"\n",
       "    ],\n",
       "    \"series\": [\n",
       "        {\n",
       "            \"type\": \"map\",\n",
       "            \"label\": {\n",
       "                \"show\": true,\n",
       "                \"position\": \"top\",\n",
       "                \"margin\": 8\n",
       "            },\n",
       "            \"mapType\": \"china\",\n",
       "            \"data\": [\n",
       "                {\n",
       "                    \"name\": \"\\u4e0a\\u6d77\",\n",
       "                    \"value\": 297494\n",
       "                },\n",
       "                {\n",
       "                    \"name\": \"\\u4e91\\u5357\",\n",
       "                    \"value\": 279162\n",
       "                },\n",
       "                {\n",
       "                    \"name\": \"\\u5185\\u8499\\u53e4\",\n",
       "                    \"value\": 179316\n",
       "                },\n",
       "                {\n",
       "                    \"name\": \"\\u5317\\u4eac\",\n",
       "                    \"value\": 359146\n",
       "                },\n",
       "                {\n",
       "                    \"name\": \"\\u56db\\u5ddd\",\n",
       "                    \"value\": 550626\n",
       "                },\n",
       "                {\n",
       "                    \"name\": \"\\u5b89\\u5fbd\",\n",
       "                    \"value\": 411830\n",
       "                },\n",
       "                {\n",
       "                    \"name\": \"\\u5c71\\u4e1c\",\n",
       "                    \"value\": 854127\n",
       "                },\n",
       "                {\n",
       "                    \"name\": \"\\u5c71\\u897f\",\n",
       "                    \"value\": 265376\n",
       "                },\n",
       "                {\n",
       "                    \"name\": \"\\u5e7f\\u4e1c\",\n",
       "                    \"value\": 1104134\n",
       "                },\n",
       "                {\n",
       "                    \"name\": \"\\u5e7f\\u897f\",\n",
       "                    \"value\": 250426\n",
       "                },\n",
       "                {\n",
       "                    \"name\": \"\\u6c5f\\u82cf\",\n",
       "                    \"value\": 904270\n",
       "                },\n",
       "                {\n",
       "                    \"name\": \"\\u6c5f\\u897f\",\n",
       "                    \"value\": 283396\n",
       "                },\n",
       "                {\n",
       "                    \"name\": \"\\u6cb3\\u5317\",\n",
       "                    \"value\": 667250\n",
       "                },\n",
       "                {\n",
       "                    \"name\": \"\\u6cb3\\u5357\",\n",
       "                    \"value\": 749853\n",
       "                },\n",
       "                {\n",
       "                    \"name\": \"\\u6d59\\u6c5f\",\n",
       "                    \"value\": 698823\n",
       "                },\n",
       "                {\n",
       "                    \"name\": \"\\u6e56\\u5317\",\n",
       "                    \"value\": 397967\n",
       "                },\n",
       "                {\n",
       "                    \"name\": \"\\u6e56\\u5357\",\n",
       "                    \"value\": 446622\n",
       "                },\n",
       "                {\n",
       "                    \"name\": \"\\u798f\\u5efa\",\n",
       "                    \"value\": 278469\n",
       "                },\n",
       "                {\n",
       "                    \"name\": \"\\u8fbd\\u5b81\",\n",
       "                    \"value\": 328400\n",
       "                },\n",
       "                {\n",
       "                    \"name\": \"\\u91cd\\u5e86\",\n",
       "                    \"value\": 240366\n",
       "                },\n",
       "                {\n",
       "                    \"name\": \"\\u9655\\u897f\",\n",
       "                    \"value\": 297537\n",
       "                },\n",
       "                {\n",
       "                    \"name\": \"\\u9ed1\\u9f99\\u6c5f\",\n",
       "                    \"value\": 208868\n",
       "                }\n",
       "            ],\n",
       "            \"roam\": true,\n",
       "            \"aspectScale\": 0.75,\n",
       "            \"nameProperty\": \"name\",\n",
       "            \"selectedMode\": false,\n",
       "            \"zoom\": 1,\n",
       "            \"mapValueCalculation\": \"sum\",\n",
       "            \"showLegendSymbol\": true,\n",
       "            \"emphasis\": {}\n",
       "        }\n",
       "    ],\n",
       "    \"legend\": [\n",
       "        {\n",
       "            \"data\": [\n",
       "                \"\"\n",
       "            ],\n",
       "            \"selected\": {\n",
       "                \"\": true\n",
       "            },\n",
       "            \"show\": true,\n",
       "            \"padding\": 5,\n",
       "            \"itemGap\": 10,\n",
       "            \"itemWidth\": 25,\n",
       "            \"itemHeight\": 14\n",
       "        }\n",
       "    ],\n",
       "    \"tooltip\": {\n",
       "        \"show\": true,\n",
       "        \"trigger\": \"item\",\n",
       "        \"triggerOn\": \"mousemove|click\",\n",
       "        \"axisPointer\": {\n",
       "            \"type\": \"line\"\n",
       "        },\n",
       "        \"showContent\": true,\n",
       "        \"alwaysShowContent\": false,\n",
       "        \"showDelay\": 0,\n",
       "        \"hideDelay\": 100,\n",
       "        \"textStyle\": {\n",
       "            \"fontSize\": 14\n",
       "        },\n",
       "        \"borderWidth\": 0,\n",
       "        \"padding\": 5\n",
       "    },\n",
       "    \"title\": [\n",
       "        {\n",
       "            \"text\": \"2016\\u5e74\\u5404\\u4e2a\\u7701\\u4efd\\u6c7d\\u8f66\\u9500\\u552e\\u603b\\u91cf\",\n",
       "            \"right\": \"center\",\n",
       "            \"top\": \"5%\",\n",
       "            \"padding\": 5,\n",
       "            \"itemGap\": 10\n",
       "        }\n",
       "    ],\n",
       "    \"visualMap\": {\n",
       "        \"show\": true,\n",
       "        \"type\": \"continuous\",\n",
       "        \"min\": 0,\n",
       "        \"max\": 1200000,\n",
       "        \"inRange\": {\n",
       "            \"color\": [\n",
       "                \"#50a3ba\",\n",
       "                \"#eac763\",\n",
       "                \"#d94e5d\"\n",
       "            ]\n",
       "        },\n",
       "        \"calculable\": true,\n",
       "        \"inverse\": false,\n",
       "        \"splitNumber\": 5,\n",
       "        \"orient\": \"vertical\",\n",
       "        \"showLabel\": true,\n",
       "        \"itemWidth\": 20,\n",
       "        \"itemHeight\": 140,\n",
       "        \"borderWidth\": 0\n",
       "    }\n",
       "};\n",
       "                chart_c8963618a3124e898aeae822d232a6c8.setOption(option_c8963618a3124e898aeae822d232a6c8);\n",
       "        });\n",
       "    </script>\n"
      ],
      "text/plain": [
       "<pyecharts.render.display.HTML at 0x241e632e340>"
      ]
     },
     "execution_count": 105,
     "metadata": {},
     "output_type": "execute_result"
    }
   ],
   "source": [
    "from pyecharts.charts import Map,Geo\n",
    "map=(\n",
    "    Map()\n",
    "    .add(\"\",dataa,\"china\")\n",
    "    .set_global_opts(\n",
    "        title_opts=opts.TitleOpts(title=\"2016年各个省份汽车销售总量\",pos_right=\"center\",pos_top=\"5%\"),\n",
    "        visualmap_opts=opts.VisualMapOpts(max_=1200000),\n",
    "    )  \n",
    ")\n",
    "map.render_notebook()\n",
    "#map.render(\"zke.html\")"
   ]
  },
  {
   "cell_type": "code",
   "execution_count": null,
   "metadata": {
    "pycharm": {
     "name": "#%%\n"
    }
   },
   "outputs": [],
   "source": []
  },
  {
   "cell_type": "code",
   "execution_count": null,
   "metadata": {
    "pycharm": {
     "name": "#%%\n"
    }
   },
   "outputs": [],
   "source": []
  }
 ],
 "metadata": {
  "interpreter": {
   "hash": "b3ba2566441a7c06988d0923437866b63cedc61552a5af99d1f4fb67d367b25f"
  },
  "kernelspec": {
   "display_name": "Python 3.8.8 ('base')",
   "language": "python",
   "name": "python3"
  },
  "language_info": {
   "codemirror_mode": {
    "name": "ipython",
    "version": 3
   },
   "file_extension": ".py",
   "mimetype": "text/x-python",
   "name": "python",
   "nbconvert_exporter": "python",
   "pygments_lexer": "ipython3",
   "version": "3.8.8"
  },
  "orig_nbformat": 4
 },
 "nbformat": 4,
 "nbformat_minor": 2
}