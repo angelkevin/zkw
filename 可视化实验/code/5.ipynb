{
 "cells": [
  {
   "cell_type": "code",
   "execution_count": null,
   "metadata": {
    "pycharm": {
     "name": "#%%\n"
    }
   },
   "outputs": [],
   "source": [
    "import numpy as np\n",
    "import pandas as pd \n",
    "import matplotlib.pyplot as plt\n",
    "import warnings\n",
    "import matplotlib\n",
    "matplotlib.rcParams['axes.unicode_minus'] =False\n",
    "warnings.filterwarnings(\"ignore\")"
   ]
  },
  {
   "cell_type": "code",
   "execution_count": null,
   "metadata": {
    "pycharm": {
     "name": "#%%\n"
    }
   },
   "outputs": [],
   "source": [
    "data = pd.read_csv('E:\\PycharmProjects\\pythonProject\\\\5\\附件1.csv',encoding='GBK')"
   ]
  },
  {
   "cell_type": "code",
   "execution_count": null,
   "metadata": {
    "pycharm": {
     "name": "#%%\n"
    }
   },
   "outputs": [],
   "source": [
    "bday = '2017/6/1'\n",
    "eday = '2017/7/1'\n",
    "six = data[(data['支付时间']>=bday) & (data['支付时间']<=eday)]\n",
    "six1 = six['商品'].value_counts()\n",
    "x = []\n",
    "y  = []\n",
    "for i in range(5):\n",
    "    x.append(six1.index[i])\n",
    "    y.append(six1[i])\n",
    "plt.rcParams['font.sans-serif']=['SimHei']\n",
    "plt.bar(x,y,color = 'b')\n",
    "plt.title(\"2017年6月销量前5的商品\")\n",
    "for a,b in zip(x, y):\n",
    "    plt.text(a,int(b),\n",
    "             int(b),\n",
    "             ha='center', \n",
    "             va='bottom',\n",
    "            )\n",
    "plt.show()"
   ]
  },
  {
   "cell_type": "code",
   "execution_count": null,
   "metadata": {
    "pycharm": {
     "name": "#%%\n"
    }
   },
   "outputs": [],
   "source": [
    "s = []\n",
    "x = [i for i in range(1,13,1)]\n",
    "for n in range(1,13):\n",
    "    bday1 = f'2017/{n}/1'\n",
    "    eday1 = f'2017/{n}/32'\n",
    "    money = data[(data['支付时间']>=bday1) & (data['支付时间']<=eday1)]\n",
    "    s.append(money.groupby(\"设备ID\").agg(sum))\n"
   ]
  },
  {
   "cell_type": "code",
   "execution_count": null,
   "metadata": {
    "pycharm": {
     "name": "#%%\n"
    }
   },
   "outputs": [],
   "source": [
    "def get(s):\n",
    "    xxx=[]\n",
    "    for i in s:\n",
    "        xx = []\n",
    "        for n in i['应付金额']:\n",
    "            xx.append(int(n))\n",
    "        xxx.append(xx)\n",
    "    return xxx"
   ]
  },
  {
   "cell_type": "code",
   "execution_count": null,
   "metadata": {
    "pycharm": {
     "name": "#%%\n"
    }
   },
   "outputs": [],
   "source": [
    "num = get(s)\n",
    "labels=['A','B','C','D','E']"
   ]
  },
  {
   "cell_type": "code",
   "execution_count": null,
   "metadata": {
    "pycharm": {
     "name": "#%%\n"
    }
   },
   "outputs": [],
   "source": [
    "fig,subs=plt.subplots(3,4,figsize = (18,20),facecolor='#ccddef')\n",
    "fig.suptitle(\"交易额\",fontsize = 20)\n",
    "w = 0\n",
    "for n in range(3):\n",
    "    for m in range(4):\n",
    "        subs[n][m].plot(labels,num[w])\n",
    "        subs[n][m].set_title(w+1)\n",
    "        w = w+1"
   ]
  },
  {
   "cell_type": "code",
   "execution_count": null,
   "metadata": {
    "pycharm": {
     "name": "#%%\n"
    }
   },
   "outputs": [],
   "source": [
    "fig,subs=plt.subplots(3,4,figsize = (18,20),facecolor='#ccddef')\n",
    "fig.suptitle(\"月环比\",fontsize = 20)\n",
    "w = 0\n",
    "for n in range(3):\n",
    "    for m in range(4):\n",
    "        subs[n][m].pie(num[w],pctdistance=0.8,autopct='%.1f%%')\n",
    "        subs[n][m].pie([1],radius=0.6,colors='w')\n",
    "        subs[n][m].legend(labels,loc='upper left')\n",
    "        w =w +1"
   ]
  },
  {
   "cell_type": "code",
   "execution_count": null,
   "metadata": {
    "pycharm": {
     "name": "#%%\n"
    }
   },
   "outputs": [],
   "source": [
    "\n",
    "aaa = []\n",
    "for i in range(len(num)-1):\n",
    "    aa = []\n",
    "    for n in range(len(num[i])):\n",
    "        aa.append((num[i+1][n]-num[i][n])/num[i][n])\n",
    "    aaa.append(aa)\n"
   ]
  },
  {
   "cell_type": "code",
   "execution_count": null,
   "metadata": {
    "pycharm": {
     "name": "#%%\n"
    }
   },
   "outputs": [],
   "source": [
    "aaa.append([0,0,0,0,0])"
   ]
  },
  {
   "cell_type": "code",
   "execution_count": null,
   "metadata": {
    "pycharm": {
     "name": "#%%\n"
    }
   },
   "outputs": [],
   "source": [
    "fig,subs=plt.subplots(3,4,figsize = (18,20),)\n",
    "fig.suptitle(\"增长率\",fontsize = 20)\n",
    "w = 0\n",
    "for n in range(3):\n",
    "    for m in range(4):\n",
    "        subs[n][m].bar(labels,aaa[w])\n",
    "        subs[n][m].set_title(w+1)\n",
    "        w = w+1"
   ]
  },
  {
   "cell_type": "code",
   "execution_count": null,
   "metadata": {
    "pycharm": {
     "name": "#%%\n"
    }
   },
   "outputs": [],
   "source": [
    "df = pd.read_csv(r'C:\\Users\\Administrator\\Desktop\\实验五数据\\附件2.csv',encoding='GBK')"
   ]
  },
  {
   "cell_type": "code",
   "execution_count": null,
   "metadata": {
    "pycharm": {
     "name": "#%%\n"
    }
   },
   "outputs": [],
   "source": [
    "df = data.merge(df,how=\"left\",on='商品')"
   ]
  },
  {
   "cell_type": "code",
   "execution_count": null,
   "metadata": {
    "pycharm": {
     "name": "#%%\n"
    }
   },
   "outputs": [],
   "source": [
    "df1 = df.groupby(['设备ID','大类']).agg(sum)"
   ]
  },
  {
   "cell_type": "code",
   "execution_count": null,
   "metadata": {
    "pycharm": {
     "name": "#%%\n"
    }
   },
   "outputs": [],
   "source": [
    "mm = []\n",
    "for i in df1['应付金额']:\n",
    "    mm.append(i)"
   ]
  },
  {
   "cell_type": "code",
   "execution_count": null,
   "metadata": {
    "pycharm": {
     "name": "#%%\n"
    }
   },
   "outputs": [],
   "source": [
    "sum = 0\n",
    "bb = []\n",
    "for i in range(0,len(mm),2):\n",
    "    sum = sum + mm[i]*0.20+mm[i+1]*0.25\n",
    "    bb.append(mm[i]*0.20+mm[i+1]*0.25)\n"
   ]
  },
  {
   "cell_type": "code",
   "execution_count": null,
   "metadata": {
    "pycharm": {
     "name": "#%%\n"
    }
   },
   "outputs": [],
   "source": [
    "plt.pie(bb,labels=labels,pctdistance=0.8,autopct='%.1f%%',startangle=90)\n",
    "plt.show()"
   ]
  },
  {
   "cell_type": "code",
   "execution_count": null,
   "metadata": {
    "pycharm": {
     "name": "#%%\n"
    }
   },
   "outputs": [],
   "source": [
    "bday = '2017/4/1'\n",
    "eday = '2017/5/1'\n",
    "four = data[(data['支付时间']>=bday) & (data['支付时间']<=eday)]"
   ]
  },
  {
   "cell_type": "code",
   "execution_count": null,
   "metadata": {
    "pycharm": {
     "name": "#%%\n"
    }
   },
   "outputs": [],
   "source": [
    "four.groupby('设备ID').count()"
   ]
  },
  {
   "cell_type": "code",
   "execution_count": null,
   "metadata": {
    "pycharm": {
     "name": "#%%\n"
    }
   },
   "outputs": [],
   "source": [
    "num[3]"
   ]
  },
  {
   "cell_type": "code",
   "execution_count": null,
   "metadata": {
    "pycharm": {
     "name": "#%%\n"
    }
   },
   "outputs": [],
   "source": [
    "import matplotlib.pyplot as plt\n",
    "import pandas as pd\n",
    "plt.figure(figsize=(10, 5))\n",
    "x = four.drop_duplicates('设备ID',keep='first')['设备ID']\n",
    "y = [603,447,734,895,443]\n",
    "z = num[3]\n",
    "plt.scatter(x, y,z,marker='o')\n",
    "plt.xlabel('ID')\n",
    "plt.ylabel('销售量')\n",
    "plt.title('气泡图', loc='center')\n",
    "plt.ylim(0, 1300)\n",
    "plt.show()"
   ]
  },
  {
   "cell_type": "code",
   "execution_count": null,
   "metadata": {
    "pycharm": {
     "name": "#%%\n"
    }
   },
   "outputs": [],
   "source": [
    "cc = data[(data['设备ID']=='E43A6E078A04228') ]"
   ]
  },
  {
   "cell_type": "code",
   "execution_count": null,
   "metadata": {
    "pycharm": {
     "name": "#%%\n"
    }
   },
   "outputs": [],
   "source": [
    "six_1 = []\n",
    "for m in range(1,31):\n",
    "    time = []\n",
    "    for i in range(0,22):\n",
    "        b = f'2017/6/{m} {i}'\n",
    "        e = f'2017/6/{m} {i+1}'\n",
    "        var = len(cc[(cc['支付时间']>=b) & (cc['支付时间']<=e)])\n",
    "        time.append(var)\n",
    "    six_1.append(time)\n",
    "    "
   ]
  },
  {
   "cell_type": "code",
   "execution_count": null,
   "metadata": {
    "pycharm": {
     "name": "#%%\n"
    }
   },
   "outputs": [],
   "source": [
    "seven_1 = []\n",
    "for m in range(1,32):\n",
    "    time = []\n",
    "    for i in range(0,22):\n",
    "        b = f'2017/7/{m} {i}'\n",
    "        e = f'2017/7/{m} {i+1}'\n",
    "        var = len(cc[(cc['支付时间']>=b) & (cc['支付时间']<=e)])\n",
    "        time.append(var)\n",
    "    seven_1.append(time)\n",
    "    "
   ]
  },
  {
   "cell_type": "code",
   "execution_count": null,
   "metadata": {
    "pycharm": {
     "name": "#%%\n"
    }
   },
   "outputs": [],
   "source": [
    "eight_1 = []\n",
    "for m in range(1,32):\n",
    "    time = []\n",
    "    for i in range(0,22):\n",
    "        b = f'2017/8/{m} {i}'\n",
    "        e = f'2017/8/{m} {i+1}'\n",
    "        var = len(cc[(cc['支付时间']>=b) & (cc['支付时间']<=e)])\n",
    "        time.append(var)\n",
    "    eight_1.append(time)\n",
    "    "
   ]
  },
  {
   "cell_type": "code",
   "execution_count": null,
   "metadata": {
    "pycharm": {
     "name": "#%%\n"
    }
   },
   "outputs": [],
   "source": [
    "eight_11 = np.array(eight_1).T\n",
    "seven_11 = np.array(seven_1).T\n",
    "six_11= np.array(six_1).T\n"
   ]
  },
  {
   "cell_type": "code",
   "execution_count": null,
   "metadata": {
    "pycharm": {
     "name": "#%%\n"
    }
   },
   "outputs": [],
   "source": [
    "import matplotlib.pyplot as plt\n",
    "import numpy as np\n",
    "import seaborn as sns\n",
    "plt.subplots(figsize = (30,20))\n",
    "sns.heatmap(data=eight_11,\n",
    "                cbar=True, \n",
    "\t\t\t\tannot=True, \n",
    "                 square=True,\n",
    "                 fmt='.2f',   )\n",
    "plt.title('八月热力图')\n",
    "plt.show()\n"
   ]
  },
  {
   "cell_type": "code",
   "execution_count": null,
   "metadata": {
    "pycharm": {
     "name": "#%%\n"
    }
   },
   "outputs": [],
   "source": [
    "import matplotlib.pyplot as plt\n",
    "import numpy as np\n",
    "import seaborn as sns\n",
    "plt.subplots(figsize = (30,20))\n",
    "sns.heatmap(data=seven_11,\n",
    "                cbar=True, \n",
    "\t\t\t\tannot=True, \n",
    "                 square=True,\n",
    "                 fmt='.2f',   )\n",
    "plt.title('7月热力图')\n",
    "plt.show()\n"
   ]
  },
  {
   "cell_type": "code",
   "execution_count": null,
   "metadata": {
    "pycharm": {
     "name": "#%%\n"
    }
   },
   "outputs": [],
   "source": [
    "import matplotlib.pyplot as plt\n",
    "import numpy as np\n",
    "import seaborn as sns\n",
    "plt.subplots(figsize = (30,20))\n",
    "sns.heatmap(data=six_11,\n",
    "                cbar=True, \n",
    "\t\t\t\tannot=True, \n",
    "                 square=True,\n",
    "                 fmt='.2f',   )\n",
    "plt.title('六月热力图')\n",
    "plt.show()\n"
   ]
  },
  {
   "cell_type": "code",
   "execution_count": null,
   "metadata": {
    "pycharm": {
     "name": "#%%\n"
    }
   },
   "outputs": [],
   "source": []
  },
  {
   "cell_type": "code",
   "execution_count": null,
   "metadata": {
    "pycharm": {
     "name": "#%%\n"
    }
   },
   "outputs": [],
   "source": []
  },
  {
   "cell_type": "code",
   "execution_count": null,
   "metadata": {
    "pycharm": {
     "name": "#%%\n"
    }
   },
   "outputs": [],
   "source": []
  },
  {
   "cell_type": "code",
   "execution_count": null,
   "metadata": {
    "pycharm": {
     "name": "#%%\n"
    }
   },
   "outputs": [],
   "source": []
  },
  {
   "cell_type": "code",
   "execution_count": null,
   "metadata": {
    "pycharm": {
     "name": "#%%\n"
    }
   },
   "outputs": [],
   "source": []
  },
  {
   "cell_type": "code",
   "execution_count": null,
   "metadata": {
    "pycharm": {
     "name": "#%%\n"
    }
   },
   "outputs": [],
   "source": []
  }
 ],
 "metadata": {
  "interpreter": {
   "hash": "b3ba2566441a7c06988d0923437866b63cedc61552a5af99d1f4fb67d367b25f"
  },
  "kernelspec": {
   "display_name": "Python 3",
   "language": "python",
   "name": "python3"
  },
  "language_info": {
   "codemirror_mode": {
    "name": "ipython",
    "version": 3
   },
   "file_extension": ".py",
   "mimetype": "text/x-python",
   "name": "python",
   "nbconvert_exporter": "python",
   "pygments_lexer": "ipython3",
   "version": "3.8.8"
  }
 },
 "nbformat": 4,
 "nbformat_minor": 2
}
