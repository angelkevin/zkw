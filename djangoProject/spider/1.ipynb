{
 "cells": [
  {
   "cell_type": "code",
   "execution_count": 78,
   "outputs": [],
   "source": [
    "import pymysql\n",
    "from django.shortcuts import render\n",
    "from django.http import HttpResponse\n",
    "from pyecharts import options as opts\n",
    "from pyecharts.charts import Bar, Map, Page, Pie\n",
    "from pyecharts.globals import ThemeType\n",
    "import pymysql\n",
    "from pyhive import hive\n",
    "from pyhive import hive\n",
    "import pandas as pd\n",
    "from pyhive import hive\n",
    "from pyhive import hive\n",
    "import pandas as pd\n",
    "conn = hive.connect(host=\"192.168.170.133\",port=10000, auth=\"LDAP\", database=\"default\",username=\"root\",password=\"123456\")\n",
    "query_sql = \"select * from goods\"\n",
    "curosr = conn.cursor()\n",
    "curosr.execute(query_sql)\n",
    "\n",
    "clumns = curosr.description\n",
    "# ('华为智慧屏 SE 55英寸 超薄电视 广色域鸿鹄画质 4K超高清智能液晶电视机 HD55DESA 2+16GB搭载 HarmonyOS 2', 1499.0, '华为京东自营官方旗舰店', 200000)\n",
    "data = pd.DataFrame()\n",
    "\n",
    "list_data = []\n",
    "# 获取全部数据，result是tuple\n",
    "for result in curosr.fetchall():\n",
    "    list_data.append(list(result))\n",
    "data = pd.DataFrame(list_data)"
   ],
   "metadata": {
    "collapsed": false,
    "pycharm": {
     "name": "#%%\n"
    }
   }
  },
  {
   "cell_type": "code",
   "execution_count": 79,
   "outputs": [],
   "source": [
    "data = pd.DataFrame(list_data)"
   ],
   "metadata": {
    "collapsed": false,
    "pycharm": {
     "name": "#%%\n"
    }
   }
  },
  {
   "cell_type": "code",
   "execution_count": 80,
   "outputs": [
    {
     "data": {
      "text/plain": "                                                     0       1             2  \\\n0    TCL雷鸟电视雀4SE 43英寸电视 全高清超薄全面屏 遥控器语音 液晶网络智能电视机43F...   999.0  TCL京东自营官方旗舰店   \n1    康佳电视 70E8 70英寸 2+32GB 4K超高清全面屏 智慧屏云游戏 远场语音声控 智...  2999.0   康佳电视京东自营旗舰店   \n2    创维游戏电视A43 2023款 75英寸144Hz高刷 START云游戏 HDMI2.1+W...  6599.0   创维电视京东自营旗舰店   \n3    海信电视 65E7G-PRO 65英寸4K超清 ULED 120Hz疾速屏 超薄量子点游戏全...  5099.0     海信京东自营旗舰店   \n4    TCL电视 75V8-Pro 75英寸 高色域AI声控电视 130%高色域 2+32GB 4...  3999.0  TCL京东自营官方旗舰店   \n..                                                 ...     ...           ...   \n124  海信 Vidda EA43S 2022款 43英寸 金属全面屏 超薄电视 智慧屏 全高清 游...   898.0     海信京东自营旗舰店   \n125  海信 Vidda 55V1F-R 55英寸 4K超高清 超薄电视 全面屏电视 智慧屏 1.5...  1399.0     海信京东自营旗舰店   \n126  华为智慧屏 SE 55英寸 超薄电视 广色域鸿鹄画质 4K超高清智能液晶电视机 HD55DE...  1499.0   华为京东自营官方旗舰店   \n127  小米电视EA55 2022款 55英寸 金属全面屏 远场语音 逐台校准4K超高清智能教育电视...  1499.0     小米京东自营旗舰店   \n128  小米电视EA65 2022款 65英寸 金属全面屏 远场语音 逐台校准4K超高清智能教育电视...  1999.0     小米京东自营旗舰店   \n\n          3  \n0     10000  \n1     20000  \n2     50000  \n3     10000  \n4    100000  \n..      ...  \n124  500000  \n125  500000  \n126  200000  \n127  500000  \n128  500000  \n\n[129 rows x 4 columns]",
      "text/html": "<div>\n<style scoped>\n    .dataframe tbody tr th:only-of-type {\n        vertical-align: middle;\n    }\n\n    .dataframe tbody tr th {\n        vertical-align: top;\n    }\n\n    .dataframe thead th {\n        text-align: right;\n    }\n</style>\n<table border=\"1\" class=\"dataframe\">\n  <thead>\n    <tr style=\"text-align: right;\">\n      <th></th>\n      <th>0</th>\n      <th>1</th>\n      <th>2</th>\n      <th>3</th>\n    </tr>\n  </thead>\n  <tbody>\n    <tr>\n      <th>0</th>\n      <td>TCL雷鸟电视雀4SE 43英寸电视 全高清超薄全面屏 遥控器语音 液晶网络智能电视机43F...</td>\n      <td>999.0</td>\n      <td>TCL京东自营官方旗舰店</td>\n      <td>10000</td>\n    </tr>\n    <tr>\n      <th>1</th>\n      <td>康佳电视 70E8 70英寸 2+32GB 4K超高清全面屏 智慧屏云游戏 远场语音声控 智...</td>\n      <td>2999.0</td>\n      <td>康佳电视京东自营旗舰店</td>\n      <td>20000</td>\n    </tr>\n    <tr>\n      <th>2</th>\n      <td>创维游戏电视A43 2023款 75英寸144Hz高刷 START云游戏 HDMI2.1+W...</td>\n      <td>6599.0</td>\n      <td>创维电视京东自营旗舰店</td>\n      <td>50000</td>\n    </tr>\n    <tr>\n      <th>3</th>\n      <td>海信电视 65E7G-PRO 65英寸4K超清 ULED 120Hz疾速屏 超薄量子点游戏全...</td>\n      <td>5099.0</td>\n      <td>海信京东自营旗舰店</td>\n      <td>10000</td>\n    </tr>\n    <tr>\n      <th>4</th>\n      <td>TCL电视 75V8-Pro 75英寸 高色域AI声控电视 130%高色域 2+32GB 4...</td>\n      <td>3999.0</td>\n      <td>TCL京东自营官方旗舰店</td>\n      <td>100000</td>\n    </tr>\n    <tr>\n      <th>...</th>\n      <td>...</td>\n      <td>...</td>\n      <td>...</td>\n      <td>...</td>\n    </tr>\n    <tr>\n      <th>124</th>\n      <td>海信 Vidda EA43S 2022款 43英寸 金属全面屏 超薄电视 智慧屏 全高清 游...</td>\n      <td>898.0</td>\n      <td>海信京东自营旗舰店</td>\n      <td>500000</td>\n    </tr>\n    <tr>\n      <th>125</th>\n      <td>海信 Vidda 55V1F-R 55英寸 4K超高清 超薄电视 全面屏电视 智慧屏 1.5...</td>\n      <td>1399.0</td>\n      <td>海信京东自营旗舰店</td>\n      <td>500000</td>\n    </tr>\n    <tr>\n      <th>126</th>\n      <td>华为智慧屏 SE 55英寸 超薄电视 广色域鸿鹄画质 4K超高清智能液晶电视机 HD55DE...</td>\n      <td>1499.0</td>\n      <td>华为京东自营官方旗舰店</td>\n      <td>200000</td>\n    </tr>\n    <tr>\n      <th>127</th>\n      <td>小米电视EA55 2022款 55英寸 金属全面屏 远场语音 逐台校准4K超高清智能教育电视...</td>\n      <td>1499.0</td>\n      <td>小米京东自营旗舰店</td>\n      <td>500000</td>\n    </tr>\n    <tr>\n      <th>128</th>\n      <td>小米电视EA65 2022款 65英寸 金属全面屏 远场语音 逐台校准4K超高清智能教育电视...</td>\n      <td>1999.0</td>\n      <td>小米京东自营旗舰店</td>\n      <td>500000</td>\n    </tr>\n  </tbody>\n</table>\n<p>129 rows × 4 columns</p>\n</div>"
     },
     "execution_count": 80,
     "metadata": {},
     "output_type": "execute_result"
    }
   ],
   "source": [
    "data"
   ],
   "metadata": {
    "collapsed": false,
    "pycharm": {
     "name": "#%%\n"
    }
   }
  },
  {
   "cell_type": "code",
   "execution_count": 81,
   "outputs": [],
   "source": [
    "d2 =data.sort_values(by=3,ascending=False)"
   ],
   "metadata": {
    "collapsed": false,
    "pycharm": {
     "name": "#%%\n"
    }
   }
  },
  {
   "cell_type": "code",
   "execution_count": 82,
   "outputs": [
    {
     "data": {
      "text/plain": "                                                     0        1             2  \\\n113  小米电视 Redmi A55 55英寸 4K HDR超高清 立体声澎湃音效 智能网络教育电视...   1399.0     小米京东自营旗舰店   \n81   小米电视 Redmi A43 43英寸 全高清 立体声扬声器 64位处理器 私享影音智能网络...    899.0     小米京东自营旗舰店   \n42   小米 Redmi 游戏电视 X 2022款 50英寸 120Hz高刷 HDMI2.1 3+3...   1999.0     小米京东自营旗舰店   \n79   小米电视 ES43 2022款 43英寸 4K超高清  2+32GB 远场语音 金属全面屏智...   1699.0     小米京东自营旗舰店   \n123  小米电视EA43 2022款 43英寸 金属全面屏 蓝牙语音 全高清 人工智能平板教育电视机...    899.0     小米京东自营旗舰店   \n..                                                 ...      ...           ...   \n3    海信电视 65E7G-PRO 65英寸4K超清 ULED 120Hz疾速屏 超薄量子点游戏全...   5099.0     海信京东自营旗舰店   \n0    TCL雷鸟电视雀4SE 43英寸电视 全高清超薄全面屏 遥控器语音 液晶网络智能电视机43F...    999.0  TCL京东自营官方旗舰店   \n23   华为智慧屏 SE43 MEMC迅晰流畅 43英寸超薄全面屏 4K超高清智能电视 2GB+16...   1399.0   华为京东自营官方旗舰店   \n26   LG OLED42C2PCA 42英寸 EVO 护眼 电脑游戏电竞显示设备 旗舰AI 1ms...   9999.0     LG京东自营旗舰店   \n62   D&Q110英寸超巨幕大屏会议平板触控办公电视旗舰顶配版全原A加原色屏幕高端定制款MZ110...  95000.0    D&Q京东自营旗舰店   \n\n           3  \n113  1000000  \n81   1000000  \n42   1000000  \n79   1000000  \n123  1000000  \n..       ...  \n3      10000  \n0      10000  \n23      2000  \n26      2000  \n62         0  \n\n[129 rows x 4 columns]",
      "text/html": "<div>\n<style scoped>\n    .dataframe tbody tr th:only-of-type {\n        vertical-align: middle;\n    }\n\n    .dataframe tbody tr th {\n        vertical-align: top;\n    }\n\n    .dataframe thead th {\n        text-align: right;\n    }\n</style>\n<table border=\"1\" class=\"dataframe\">\n  <thead>\n    <tr style=\"text-align: right;\">\n      <th></th>\n      <th>0</th>\n      <th>1</th>\n      <th>2</th>\n      <th>3</th>\n    </tr>\n  </thead>\n  <tbody>\n    <tr>\n      <th>113</th>\n      <td>小米电视 Redmi A55 55英寸 4K HDR超高清 立体声澎湃音效 智能网络教育电视...</td>\n      <td>1399.0</td>\n      <td>小米京东自营旗舰店</td>\n      <td>1000000</td>\n    </tr>\n    <tr>\n      <th>81</th>\n      <td>小米电视 Redmi A43 43英寸 全高清 立体声扬声器 64位处理器 私享影音智能网络...</td>\n      <td>899.0</td>\n      <td>小米京东自营旗舰店</td>\n      <td>1000000</td>\n    </tr>\n    <tr>\n      <th>42</th>\n      <td>小米 Redmi 游戏电视 X 2022款 50英寸 120Hz高刷 HDMI2.1 3+3...</td>\n      <td>1999.0</td>\n      <td>小米京东自营旗舰店</td>\n      <td>1000000</td>\n    </tr>\n    <tr>\n      <th>79</th>\n      <td>小米电视 ES43 2022款 43英寸 4K超高清  2+32GB 远场语音 金属全面屏智...</td>\n      <td>1699.0</td>\n      <td>小米京东自营旗舰店</td>\n      <td>1000000</td>\n    </tr>\n    <tr>\n      <th>123</th>\n      <td>小米电视EA43 2022款 43英寸 金属全面屏 蓝牙语音 全高清 人工智能平板教育电视机...</td>\n      <td>899.0</td>\n      <td>小米京东自营旗舰店</td>\n      <td>1000000</td>\n    </tr>\n    <tr>\n      <th>...</th>\n      <td>...</td>\n      <td>...</td>\n      <td>...</td>\n      <td>...</td>\n    </tr>\n    <tr>\n      <th>3</th>\n      <td>海信电视 65E7G-PRO 65英寸4K超清 ULED 120Hz疾速屏 超薄量子点游戏全...</td>\n      <td>5099.0</td>\n      <td>海信京东自营旗舰店</td>\n      <td>10000</td>\n    </tr>\n    <tr>\n      <th>0</th>\n      <td>TCL雷鸟电视雀4SE 43英寸电视 全高清超薄全面屏 遥控器语音 液晶网络智能电视机43F...</td>\n      <td>999.0</td>\n      <td>TCL京东自营官方旗舰店</td>\n      <td>10000</td>\n    </tr>\n    <tr>\n      <th>23</th>\n      <td>华为智慧屏 SE43 MEMC迅晰流畅 43英寸超薄全面屏 4K超高清智能电视 2GB+16...</td>\n      <td>1399.0</td>\n      <td>华为京东自营官方旗舰店</td>\n      <td>2000</td>\n    </tr>\n    <tr>\n      <th>26</th>\n      <td>LG OLED42C2PCA 42英寸 EVO 护眼 电脑游戏电竞显示设备 旗舰AI 1ms...</td>\n      <td>9999.0</td>\n      <td>LG京东自营旗舰店</td>\n      <td>2000</td>\n    </tr>\n    <tr>\n      <th>62</th>\n      <td>D&amp;Q110英寸超巨幕大屏会议平板触控办公电视旗舰顶配版全原A加原色屏幕高端定制款MZ110...</td>\n      <td>95000.0</td>\n      <td>D&amp;Q京东自营旗舰店</td>\n      <td>0</td>\n    </tr>\n  </tbody>\n</table>\n<p>129 rows × 4 columns</p>\n</div>"
     },
     "execution_count": 82,
     "metadata": {},
     "output_type": "execute_result"
    }
   ],
   "source": [
    "d2"
   ],
   "metadata": {
    "collapsed": false,
    "pycharm": {
     "name": "#%%\n"
    }
   }
  },
  {
   "cell_type": "code",
   "execution_count": 85,
   "outputs": [],
   "source": [
    "def bar_plot():\n",
    "    d2 =data.sort_values(by=3,ascending=False)\n",
    "    d2 = d2[0:10]\n",
    "    bar = (\n",
    "        Bar(init_opts=opts.InitOpts(theme=ThemeType.MACARONS))  # 设置主题\n",
    "            .add_xaxis(d2[2].tolist())\n",
    "            .add_yaxis(\"价格\", d2[3].tolist())\n",
    "            .add_yaxis(\"评论数\", d2[1].tolist())\n",
    "            .set_global_opts(title_opts=opts.TitleOpts(title=\"评论数量前十及其价格\"))\n",
    "    )\n",
    "    bar.render(\"22.html\")"
   ],
   "metadata": {
    "collapsed": false,
    "pycharm": {
     "name": "#%%\n"
    }
   }
  },
  {
   "cell_type": "code",
   "execution_count": 86,
   "outputs": [],
   "source": [
    "d3 = data[2].value_counts()"
   ],
   "metadata": {
    "collapsed": false,
    "pycharm": {
     "name": "#%%\n"
    }
   }
  },
  {
   "cell_type": "code",
   "execution_count": 95,
   "outputs": [
    {
     "data": {
      "text/plain": "'D:\\\\python\\\\djangoProject\\\\spider\\\\666.html'"
     },
     "execution_count": 95,
     "metadata": {},
     "output_type": "execute_result"
    }
   ],
   "source": [
    "from pyecharts.charts import WordCloud\n",
    "def wordcloud():\n",
    "    d3 = data[2].value_counts()\n",
    "    c = (\n",
    "        WordCloud(init_opts=opts.InitOpts(theme=ThemeType.MACARONS))#创建词云图对象\n",
    "        .add(series_name='旗舰店云图', #添加标题\n",
    "             data_pair=list(zip(d3.index.tolist(),d3.values.tolist())),\n",
    "             word_size_range=[20, 45])#指定文字大小，注意如果字体太大可能显示不全\n",
    "        .set_global_opts(#设置全局参数 标题，字号\n",
    "            title_opts=opts.TitleOpts(\n",
    "                title='旗舰店云图',\n",
    "                title_textstyle_opts=opts.TextStyleOpts(font_size=23)\n",
    "            )\n",
    "        )\n",
    "    )\n",
    "\n",
    "    c.render('666.html')\n"
   ],
   "metadata": {
    "collapsed": false,
    "pycharm": {
     "name": "#%%\n"
    }
   }
  },
  {
   "cell_type": "code",
   "execution_count": 97,
   "outputs": [
    {
     "data": {
      "text/plain": "[('四川', 239.0),\n ('浙江', 231.0),\n ('福建', 203.0),\n ('江苏', 185.0),\n ('湖南', 152.0),\n ('山东', 131.0),\n ('安徽', 100.0),\n ('广东', 89.0),\n ('河北', 87.0),\n ('湖北', 84.0),\n ('吉林', 75.0),\n ('上海', 70.0),\n ('江西', 64.0),\n ('广西', 64.0),\n ('贵州', 64.0),\n ('北京', 63.0),\n ('云南', 53.0),\n ('重庆', 49.0),\n ('河南', 48.0),\n ('陕西', 38.0),\n ('山西', 37.0),\n ('辽宁', 33.0),\n ('新疆', 25.0),\n ('内蒙古', 23.0),\n ('黑龙江', 20.0),\n ('天津', 19.0),\n ('甘肃', 13.0),\n ('海南', 9.0),\n ('青海', 7.0),\n ('宁夏', 4.0),\n ('西藏', 0.0)]"
     },
     "execution_count": 97,
     "metadata": {},
     "output_type": "execute_result"
    }
   ],
   "source": [
    "dic = {'四川': 239.0, '浙江': 231.0, '福建': 203.0, '江苏': 185.0, '湖南': 152.0, '山东': 131.0, '安徽': 100.0, '广东': 89.0, '河北': 87.0, '湖北': 84.0, '吉林': 75.0,\n",
    "                         '上海': 70.0, '江西': 64.0, '广西': 64.0, '贵州': 64.0, '北京': 63.0, '云南': 53.0, '重庆': 49.0, '河南': 48.0, '陕西': 38.0, '山西': 37.0, '辽宁': 33.0, '新疆': 25.0,\n",
    "                         '内蒙古': 23.0, '黑龙江': 20.0, '天津': 19.0, '甘肃': 13.0, '海南': 9.0, '青海': 7.0, '宁夏': 4.0, '西藏': 0.0}\n",
    "list(dic.items())"
   ],
   "metadata": {
    "collapsed": false,
    "pycharm": {
     "name": "#%%\n"
    }
   }
  },
  {
   "cell_type": "code",
   "execution_count": 98,
   "outputs": [],
   "source": [
    "world_map = (\n",
    "        Map(init_opts=opts.InitOpts(theme=ThemeType.MACARONS))  # 设置主题\n",
    "            .add(\"\", list(dic.items()), \"china\", is_map_symbol_show=False,\n",
    "                 is_roam=False)\n",
    "            .set_series_opts(label_opts=opts.LabelOpts(is_show=False))\n",
    "            .set_global_opts(\n",
    "            title_opts=opts.TitleOpts(title=\"个个省份的销量\"),\n",
    "            visualmap_opts=opts.VisualMapOpts(max_=200))\n",
    "    )"
   ],
   "metadata": {
    "collapsed": false,
    "pycharm": {
     "name": "#%%\n"
    }
   }
  },
  {
   "cell_type": "code",
   "execution_count": 99,
   "outputs": [
    {
     "data": {
      "text/plain": "'D:\\\\python\\\\djangoProject\\\\spider\\\\777.html'"
     },
     "execution_count": 99,
     "metadata": {},
     "output_type": "execute_result"
    }
   ],
   "source": [
    "world_map.render(\"777.html\")"
   ],
   "metadata": {
    "collapsed": false,
    "pycharm": {
     "name": "#%%\n"
    }
   }
  },
  {
   "cell_type": "code",
   "execution_count": 100,
   "outputs": [
    {
     "name": "stdout",
     "output_type": "stream",
     "text": [
      "                                                     0       1            2  \\\n",
      "113  小米电视 Redmi A55 55英寸 4K HDR超高清 立体声澎湃音效 智能网络教育电视...  1399.0    小米京东自营旗舰店   \n",
      "81   小米电视 Redmi A43 43英寸 全高清 立体声扬声器 64位处理器 私享影音智能网络...   899.0    小米京东自营旗舰店   \n",
      "42   小米 Redmi 游戏电视 X 2022款 50英寸 120Hz高刷 HDMI2.1 3+3...  1999.0    小米京东自营旗舰店   \n",
      "79   小米电视 ES43 2022款 43英寸 4K超高清  2+32GB 远场语音 金属全面屏智...  1699.0    小米京东自营旗舰店   \n",
      "123  小米电视EA43 2022款 43英寸 金属全面屏 蓝牙语音 全高清 人工智能平板教育电视机...   899.0    小米京东自营旗舰店   \n",
      "77   小米电视 Redmi A65 65英寸4K HDR超高清 立体声澎湃音效 智能网络教育电视L...  1799.0    小米京东自营旗舰店   \n",
      "45   小米电视 ES50 2022款 50英寸 4K超高清 MEMC运动补偿2+32GB 远场语音...  2199.0    小米京东自营旗舰店   \n",
      "121  小米电视EA32 2022款 32英寸 金属全面屏 蓝牙语音 高清720p 智能平板教育电视...   649.0    小米京东自营旗舰店   \n",
      "66   小米 Redmi 电视  X50 50英寸 金属全面屏 4K超高清  运动补偿 远场语音 智...  1699.0    小米京东自营旗舰店   \n",
      "118  小米电视EA50 2022款 50英寸 金属全面屏 远场语音 逐台校准4K超高清智能教育电视...  1299.0    小米京东自营旗舰店   \n",
      "111  小米电视  Redmi  A32 32英寸 立体声扬声器 64位处理器 享空间私享影音 智能...   599.0    小米京东自营旗舰店   \n",
      "128  小米电视EA65 2022款 65英寸 金属全面屏 远场语音 逐台校准4K超高清智能教育电视...  1999.0    小米京东自营旗舰店   \n",
      "38   小米电视5 Pro 55英寸 L55M6-5P 5.9mm超薄全面屏 4K量子点广色域 4+...  3699.0    小米京东自营旗舰店   \n",
      "22   康佳电视 43S3 43英寸 高性能全面屏 1+16GB 全高清 AI智能语音 网络平板教育...  1199.0  康佳电视京东自营旗舰店   \n",
      "110  海信 Vidda 43V1F-R 43英寸 全高清 超薄全面屏电视 智慧屏 1G+8G 教育...   898.0    海信京东自营旗舰店   \n",
      "\n",
      "           3  \n",
      "113  1000000  \n",
      "81   1000000  \n",
      "42   1000000  \n",
      "79   1000000  \n",
      "123  1000000  \n",
      "77   1000000  \n",
      "45   1000000  \n",
      "121  1000000  \n",
      "66   1000000  \n",
      "118  1000000  \n",
      "111  1000000  \n",
      "128   500000  \n",
      "38    500000  \n",
      "22    500000  \n",
      "110   500000  \n"
     ]
    }
   ],
   "source": [
    "from pyecharts.charts import Line\n",
    "\n",
    "d2 = data.sort_values(by=3, ascending=False)\n",
    "d2 = d2[0:15]\n",
    "print(d2)\n",
    "line = (\n",
    "        Line(init_opts=opts.InitOpts(theme=ThemeType.MACARONS))\n",
    "            .add_xaxis(d2[3].tolist())\n",
    "            .add_yaxis(\"价格\", d2[2].tolist())\n",
    "            .set_global_opts(title_opts=opts.TitleOpts(title=\"评论数量前前十五价格\"))\n",
    "    )"
   ],
   "metadata": {
    "collapsed": false,
    "pycharm": {
     "name": "#%%\n"
    }
   }
  },
  {
   "cell_type": "code",
   "execution_count": null,
   "outputs": [],
   "source": [],
   "metadata": {
    "collapsed": false,
    "pycharm": {
     "name": "#%%\n"
    }
   }
  }
 ],
 "metadata": {
  "kernelspec": {
   "display_name": "Python 3",
   "language": "python",
   "name": "python3"
  },
  "language_info": {
   "codemirror_mode": {
    "name": "ipython",
    "version": 2
   },
   "file_extension": ".py",
   "mimetype": "text/x-python",
   "name": "python",
   "nbconvert_exporter": "python",
   "pygments_lexer": "ipython2",
   "version": "2.7.6"
  }
 },
 "nbformat": 4,
 "nbformat_minor": 0
}