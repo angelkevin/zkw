{
 "cells": [
  {
   "cell_type": "code",
   "execution_count": 1,
   "metadata": {},
   "outputs": [
    {
     "name": "stderr",
     "output_type": "stream",
     "text": [
      "<ipython-input-1-6a143c622dae>:5: DeprecationWarning: executable_path has been deprecated, please pass in a Service object\n",
      "  driver = webdriver.Chrome(executable_path='C:\\Program Files\\Google\\Chrome\\Application\\chromedriver.exe')\n",
      "<ipython-input-1-6a143c622dae>:11: DeprecationWarning: find_element_by_class_name is deprecated. Please use find_element(by=By.CLASS_NAME, value=name) instead\n",
      "  a1 = driver.find_element_by_class_name('button-transition')\n",
      "<ipython-input-1-6a143c622dae>:13: DeprecationWarning: find_element_by_class_name is deprecated. Please use find_element(by=By.CLASS_NAME, value=name) instead\n",
      "  a2 = driver.find_element_by_class_name('loginSwitch')\n",
      "<ipython-input-1-6a143c622dae>:15: DeprecationWarning: find_element_by_xpath is deprecated. Please use find_element(by=By.XPATH, value=xpath) instead\n",
      "  a3 = driver.find_element_by_xpath('//*[@id=\"fm1\"]/div[1]/div[2]/h3')\n",
      "<ipython-input-1-6a143c622dae>:17: DeprecationWarning: find_element_by_xpath is deprecated. Please use find_element(by=By.XPATH, value=xpath) instead\n",
      "  a4 = driver.find_element_by_xpath('//*[@id=\"username\"]')\n",
      "<ipython-input-1-6a143c622dae>:19: DeprecationWarning: find_element_by_xpath is deprecated. Please use find_element(by=By.XPATH, value=xpath) instead\n",
      "  a5 = driver.find_element_by_xpath('//*[@id=\"password\"]')\n",
      "<ipython-input-1-6a143c622dae>:21: DeprecationWarning: find_element_by_xpath is deprecated. Please use find_element(by=By.XPATH, value=xpath) instead\n",
      "  a6 = driver.find_element_by_xpath('//*[@id=\"psd\"]/div[4]/input[1]')\n",
      "<ipython-input-1-6a143c622dae>:28: DeprecationWarning: find_element_by_xpath is deprecated. Please use find_element(by=By.XPATH, value=xpath) instead\n",
      "  a8 = driver.find_element_by_xpath('//*[@id=\"ulvenue\"]/li/div/div')\n",
      "<ipython-input-1-6a143c622dae>:31: DeprecationWarning: find_element_by_xpath is deprecated. Please use find_element(by=By.XPATH, value=xpath) instead\n",
      "  a9 = driver.find_element_by_xpath('//*[@id=\"ultype\"]/li[4]')\n",
      "<ipython-input-1-6a143c622dae>:33: DeprecationWarning: find_element_by_xpath is deprecated. Please use find_element(by=By.XPATH, value=xpath) instead\n",
      "  a10 = driver.find_element_by_xpath('//*[@id=\"btn2_main4LBtn2\"]') #上中下\n",
      "<ipython-input-1-6a143c622dae>:38: DeprecationWarning: find_element_by_xpath is deprecated. Please use find_element(by=By.XPATH, value=xpath) instead\n",
      "  a11 = driver.find_element_by_xpath('//*[@id=\"li1乒乓球12-1134\"]')\n",
      "<ipython-input-1-6a143c622dae>:41: DeprecationWarning: find_element_by_xpath is deprecated. Please use find_element(by=By.XPATH, value=xpath) instead\n",
      "  a12 = driver.find_element_by_xpath('//*[@id=\"atj\"]')\n",
      "<ipython-input-1-6a143c622dae>:44: DeprecationWarning: find_element_by_xpath is deprecated. Please use find_element(by=By.XPATH, value=xpath) instead\n",
      "  a13 = driver.find_element_by_xpath('/html/body/div[6]/div[2]/div[3]/a[2]')\n",
      "<ipython-input-1-6a143c622dae>:47: DeprecationWarning: find_element_by_xpath is deprecated. Please use find_element(by=By.XPATH, value=xpath) instead\n",
      "  a14 = driver.find_element_by_xpath('//*[@id=\"541904050127\"]/i[2]')\n"
     ]
    },
    {
     "ename": "NoSuchElementException",
     "evalue": "Message: no such element: Unable to locate element: {\"method\":\"xpath\",\"selector\":\"//*[@id=\"541904050127\"]/i[2]\"}\n  (Session info: chrome=100.0.4896.127)\nStacktrace:\nBacktrace:\n\tOrdinal0 [0x00FE8BD3+2395091]\n\tOrdinal0 [0x00F7ACA1+1944737]\n\tOrdinal0 [0x00E6D008+839688]\n\tOrdinal0 [0x00E99BFD+1022973]\n\tOrdinal0 [0x00E99EBB+1023675]\n\tOrdinal0 [0x00EC6A92+1206930]\n\tOrdinal0 [0x00EB4C04+1133572]\n\tOrdinal0 [0x00EC4D62+1199458]\n\tOrdinal0 [0x00EB49D6+1133014]\n\tOrdinal0 [0x00E8EF76+978806]\n\tOrdinal0 [0x00E8FE86+982662]\n\tGetHandleVerifier [0x0119C912+1719138]\n\tGetHandleVerifier [0x0124B2CD+2434333]\n\tGetHandleVerifier [0x01084001+569937]\n\tGetHandleVerifier [0x01083066+565942]\n\tOrdinal0 [0x00F8265B+1975899]\n\tOrdinal0 [0x00F872A8+1995432]\n\tOrdinal0 [0x00F87395+1995669]\n\tOrdinal0 [0x00F902F1+2032369]\n\tBaseThreadInitThunk [0x76C26739+25]\n\tRtlGetFullPathName_UEx [0x778D8E7F+1215]\n\tRtlGetFullPathName_UEx [0x778D8E4D+1165]\n",
     "output_type": "error",
     "traceback": [
      "\u001b[1;31m---------------------------------------------------------------------------\u001b[0m",
      "\u001b[1;31mNoSuchElementException\u001b[0m                    Traceback (most recent call last)",
      "\u001b[1;32m<ipython-input-1-6a143c622dae>\u001b[0m in \u001b[0;36m<module>\u001b[1;34m\u001b[0m\n\u001b[0;32m     45\u001b[0m \u001b[0ma13\u001b[0m\u001b[1;33m.\u001b[0m\u001b[0mclick\u001b[0m\u001b[1;33m(\u001b[0m\u001b[1;33m)\u001b[0m\u001b[1;33m\u001b[0m\u001b[1;33m\u001b[0m\u001b[0m\n\u001b[0;32m     46\u001b[0m \u001b[0msleep\u001b[0m\u001b[1;33m(\u001b[0m\u001b[1;36m1\u001b[0m\u001b[1;33m)\u001b[0m\u001b[1;33m\u001b[0m\u001b[1;33m\u001b[0m\u001b[0m\n\u001b[1;32m---> 47\u001b[1;33m \u001b[0ma14\u001b[0m \u001b[1;33m=\u001b[0m \u001b[0mdriver\u001b[0m\u001b[1;33m.\u001b[0m\u001b[0mfind_element_by_xpath\u001b[0m\u001b[1;33m(\u001b[0m\u001b[1;34m'//*[@id=\"541904050127\"]/i[2]'\u001b[0m\u001b[1;33m)\u001b[0m\u001b[1;33m\u001b[0m\u001b[1;33m\u001b[0m\u001b[0m\n\u001b[0m\u001b[0;32m     48\u001b[0m \u001b[0ma14\u001b[0m\u001b[1;33m.\u001b[0m\u001b[0mclick\u001b[0m\u001b[1;33m(\u001b[0m\u001b[1;33m)\u001b[0m\u001b[1;33m\u001b[0m\u001b[1;33m\u001b[0m\u001b[0m\n\u001b[0;32m     49\u001b[0m \u001b[0msleep\u001b[0m\u001b[1;33m(\u001b[0m\u001b[1;36m1\u001b[0m\u001b[1;33m)\u001b[0m\u001b[1;33m\u001b[0m\u001b[1;33m\u001b[0m\u001b[0m\n",
      "\u001b[1;32mC:\\ProgramData\\Anaconda3\\lib\\site-packages\\selenium\\webdriver\\remote\\webdriver.py\u001b[0m in \u001b[0;36mfind_element_by_xpath\u001b[1;34m(self, xpath)\u001b[0m\n\u001b[0;32m    519\u001b[0m             \u001b[0mstacklevel\u001b[0m\u001b[1;33m=\u001b[0m\u001b[1;36m2\u001b[0m\u001b[1;33m,\u001b[0m\u001b[1;33m\u001b[0m\u001b[1;33m\u001b[0m\u001b[0m\n\u001b[0;32m    520\u001b[0m         )\n\u001b[1;32m--> 521\u001b[1;33m         \u001b[1;32mreturn\u001b[0m \u001b[0mself\u001b[0m\u001b[1;33m.\u001b[0m\u001b[0mfind_element\u001b[0m\u001b[1;33m(\u001b[0m\u001b[0mby\u001b[0m\u001b[1;33m=\u001b[0m\u001b[0mBy\u001b[0m\u001b[1;33m.\u001b[0m\u001b[0mXPATH\u001b[0m\u001b[1;33m,\u001b[0m \u001b[0mvalue\u001b[0m\u001b[1;33m=\u001b[0m\u001b[0mxpath\u001b[0m\u001b[1;33m)\u001b[0m\u001b[1;33m\u001b[0m\u001b[1;33m\u001b[0m\u001b[0m\n\u001b[0m\u001b[0;32m    522\u001b[0m \u001b[1;33m\u001b[0m\u001b[0m\n\u001b[0;32m    523\u001b[0m     \u001b[1;32mdef\u001b[0m \u001b[0mfind_elements_by_xpath\u001b[0m\u001b[1;33m(\u001b[0m\u001b[0mself\u001b[0m\u001b[1;33m,\u001b[0m \u001b[0mxpath\u001b[0m\u001b[1;33m)\u001b[0m \u001b[1;33m->\u001b[0m \u001b[0mList\u001b[0m\u001b[1;33m[\u001b[0m\u001b[0mWebElement\u001b[0m\u001b[1;33m]\u001b[0m\u001b[1;33m:\u001b[0m\u001b[1;33m\u001b[0m\u001b[1;33m\u001b[0m\u001b[0m\n",
      "\u001b[1;32mC:\\ProgramData\\Anaconda3\\lib\\site-packages\\selenium\\webdriver\\remote\\webdriver.py\u001b[0m in \u001b[0;36mfind_element\u001b[1;34m(self, by, value)\u001b[0m\n\u001b[0;32m   1246\u001b[0m             \u001b[0mvalue\u001b[0m \u001b[1;33m=\u001b[0m \u001b[1;34m'[name=\"%s\"]'\u001b[0m \u001b[1;33m%\u001b[0m \u001b[0mvalue\u001b[0m\u001b[1;33m\u001b[0m\u001b[1;33m\u001b[0m\u001b[0m\n\u001b[0;32m   1247\u001b[0m \u001b[1;33m\u001b[0m\u001b[0m\n\u001b[1;32m-> 1248\u001b[1;33m         return self.execute(Command.FIND_ELEMENT, {\n\u001b[0m\u001b[0;32m   1249\u001b[0m             \u001b[1;34m'using'\u001b[0m\u001b[1;33m:\u001b[0m \u001b[0mby\u001b[0m\u001b[1;33m,\u001b[0m\u001b[1;33m\u001b[0m\u001b[1;33m\u001b[0m\u001b[0m\n\u001b[0;32m   1250\u001b[0m             'value': value})['value']\n",
      "\u001b[1;32mC:\\ProgramData\\Anaconda3\\lib\\site-packages\\selenium\\webdriver\\remote\\webdriver.py\u001b[0m in \u001b[0;36mexecute\u001b[1;34m(self, driver_command, params)\u001b[0m\n\u001b[0;32m    423\u001b[0m         \u001b[0mresponse\u001b[0m \u001b[1;33m=\u001b[0m \u001b[0mself\u001b[0m\u001b[1;33m.\u001b[0m\u001b[0mcommand_executor\u001b[0m\u001b[1;33m.\u001b[0m\u001b[0mexecute\u001b[0m\u001b[1;33m(\u001b[0m\u001b[0mdriver_command\u001b[0m\u001b[1;33m,\u001b[0m \u001b[0mparams\u001b[0m\u001b[1;33m)\u001b[0m\u001b[1;33m\u001b[0m\u001b[1;33m\u001b[0m\u001b[0m\n\u001b[0;32m    424\u001b[0m         \u001b[1;32mif\u001b[0m \u001b[0mresponse\u001b[0m\u001b[1;33m:\u001b[0m\u001b[1;33m\u001b[0m\u001b[1;33m\u001b[0m\u001b[0m\n\u001b[1;32m--> 425\u001b[1;33m             \u001b[0mself\u001b[0m\u001b[1;33m.\u001b[0m\u001b[0merror_handler\u001b[0m\u001b[1;33m.\u001b[0m\u001b[0mcheck_response\u001b[0m\u001b[1;33m(\u001b[0m\u001b[0mresponse\u001b[0m\u001b[1;33m)\u001b[0m\u001b[1;33m\u001b[0m\u001b[1;33m\u001b[0m\u001b[0m\n\u001b[0m\u001b[0;32m    426\u001b[0m             response['value'] = self._unwrap_value(\n\u001b[0;32m    427\u001b[0m                 response.get('value', None))\n",
      "\u001b[1;32mC:\\ProgramData\\Anaconda3\\lib\\site-packages\\selenium\\webdriver\\remote\\errorhandler.py\u001b[0m in \u001b[0;36mcheck_response\u001b[1;34m(self, response)\u001b[0m\n\u001b[0;32m    245\u001b[0m                 \u001b[0malert_text\u001b[0m \u001b[1;33m=\u001b[0m \u001b[0mvalue\u001b[0m\u001b[1;33m[\u001b[0m\u001b[1;34m'alert'\u001b[0m\u001b[1;33m]\u001b[0m\u001b[1;33m.\u001b[0m\u001b[0mget\u001b[0m\u001b[1;33m(\u001b[0m\u001b[1;34m'text'\u001b[0m\u001b[1;33m)\u001b[0m\u001b[1;33m\u001b[0m\u001b[1;33m\u001b[0m\u001b[0m\n\u001b[0;32m    246\u001b[0m             \u001b[1;32mraise\u001b[0m \u001b[0mexception_class\u001b[0m\u001b[1;33m(\u001b[0m\u001b[0mmessage\u001b[0m\u001b[1;33m,\u001b[0m \u001b[0mscreen\u001b[0m\u001b[1;33m,\u001b[0m \u001b[0mstacktrace\u001b[0m\u001b[1;33m,\u001b[0m \u001b[0malert_text\u001b[0m\u001b[1;33m)\u001b[0m  \u001b[1;31m# type: ignore[call-arg]  # mypy is not smart enough here\u001b[0m\u001b[1;33m\u001b[0m\u001b[1;33m\u001b[0m\u001b[0m\n\u001b[1;32m--> 247\u001b[1;33m         \u001b[1;32mraise\u001b[0m \u001b[0mexception_class\u001b[0m\u001b[1;33m(\u001b[0m\u001b[0mmessage\u001b[0m\u001b[1;33m,\u001b[0m \u001b[0mscreen\u001b[0m\u001b[1;33m,\u001b[0m \u001b[0mstacktrace\u001b[0m\u001b[1;33m)\u001b[0m\u001b[1;33m\u001b[0m\u001b[1;33m\u001b[0m\u001b[0m\n\u001b[0m\u001b[0;32m    248\u001b[0m \u001b[1;33m\u001b[0m\u001b[0m\n\u001b[0;32m    249\u001b[0m     \u001b[1;32mdef\u001b[0m \u001b[0m_value_or_default\u001b[0m\u001b[1;33m(\u001b[0m\u001b[0mself\u001b[0m\u001b[1;33m,\u001b[0m \u001b[0mobj\u001b[0m\u001b[1;33m:\u001b[0m \u001b[0mMapping\u001b[0m\u001b[1;33m[\u001b[0m\u001b[0m_KT\u001b[0m\u001b[1;33m,\u001b[0m \u001b[0m_VT\u001b[0m\u001b[1;33m]\u001b[0m\u001b[1;33m,\u001b[0m \u001b[0mkey\u001b[0m\u001b[1;33m:\u001b[0m \u001b[0m_KT\u001b[0m\u001b[1;33m,\u001b[0m \u001b[0mdefault\u001b[0m\u001b[1;33m:\u001b[0m \u001b[0m_VT\u001b[0m\u001b[1;33m)\u001b[0m \u001b[1;33m->\u001b[0m \u001b[0m_VT\u001b[0m\u001b[1;33m:\u001b[0m\u001b[1;33m\u001b[0m\u001b[1;33m\u001b[0m\u001b[0m\n",
      "\u001b[1;31mNoSuchElementException\u001b[0m: Message: no such element: Unable to locate element: {\"method\":\"xpath\",\"selector\":\"//*[@id=\"541904050127\"]/i[2]\"}\n  (Session info: chrome=100.0.4896.127)\nStacktrace:\nBacktrace:\n\tOrdinal0 [0x00FE8BD3+2395091]\n\tOrdinal0 [0x00F7ACA1+1944737]\n\tOrdinal0 [0x00E6D008+839688]\n\tOrdinal0 [0x00E99BFD+1022973]\n\tOrdinal0 [0x00E99EBB+1023675]\n\tOrdinal0 [0x00EC6A92+1206930]\n\tOrdinal0 [0x00EB4C04+1133572]\n\tOrdinal0 [0x00EC4D62+1199458]\n\tOrdinal0 [0x00EB49D6+1133014]\n\tOrdinal0 [0x00E8EF76+978806]\n\tOrdinal0 [0x00E8FE86+982662]\n\tGetHandleVerifier [0x0119C912+1719138]\n\tGetHandleVerifier [0x0124B2CD+2434333]\n\tGetHandleVerifier [0x01084001+569937]\n\tGetHandleVerifier [0x01083066+565942]\n\tOrdinal0 [0x00F8265B+1975899]\n\tOrdinal0 [0x00F872A8+1995432]\n\tOrdinal0 [0x00F87395+1995669]\n\tOrdinal0 [0x00F902F1+2032369]\n\tBaseThreadInitThunk [0x76C26739+25]\n\tRtlGetFullPathName_UEx [0x778D8E7F+1215]\n\tRtlGetFullPathName_UEx [0x778D8E4D+1165]\n"
     ]
    }
   ],
   "source": [
    "from selenium import webdriver\n",
    "from time import sleep\n",
    "\n",
    "# 实例化一款浏览器\n",
    "driver = webdriver.Chrome(executable_path='C:\\Program Files\\Google\\Chrome\\Application\\chromedriver.exe')\n",
    "\n",
    "# 对指定的url发起请求\n",
    "driver.get('http://cgyy.zzuli.edu.cn/Views/User/User.html')\n",
    "#driver.quit()\n",
    "sleep(1)\n",
    "a1 = driver.find_element_by_class_name('button-transition')\n",
    "a1.click()\n",
    "a2 = driver.find_element_by_class_name('loginSwitch')\n",
    "a2.click()\n",
    "a3 = driver.find_element_by_xpath('//*[@id=\"fm1\"]/div[1]/div[2]/h3')\n",
    "a3.click()\n",
    "a4 = driver.find_element_by_xpath('//*[@id=\"username\"]')\n",
    "a4.send_keys(\"\")\n",
    "a5 = driver.find_element_by_xpath('//*[@id=\"password\"]')\n",
    "a5.send_keys('zkw666..')\n",
    "a6 = driver.find_element_by_xpath('//*[@id=\"psd\"]/div[4]/input[1]')\n",
    "a6.click()\n",
    "# a7 = driver.find_element_by_xpath('//*[@id=\"left-panel\"]/ul/li[2]/a')\n",
    "# a7.click()\n",
    "driver.get('http://cgyy.zzuli.edu.cn/Views/Venue/VenueList.html?Type=Field')\n",
    "\n",
    "sleep(1)\n",
    "a8 = driver.find_element_by_xpath('//*[@id=\"ulvenue\"]/li/div/div')\n",
    "a8.click()\n",
    "sleep(1)\n",
    "a9 = driver.find_element_by_xpath('//*[@id=\"ultype\"]/li[4]')\n",
    "a9.click()\n",
    "a10 = driver.find_element_by_xpath('//*[@id=\"btn2_main4LBtn2\"]') #上中下\n",
    "a10.click()\n",
    "sleep(3)\n",
    "js=\"window.scrollTo(0,document.body.scrollHeight)\" \n",
    "driver.execute_script(js)\n",
    "a11 = driver.find_element_by_xpath('//*[@id=\"li1乒乓球12-1134\"]')\n",
    "a11.click()\n",
    "sleep(3)\n",
    "a12 = driver.find_element_by_xpath('//*[@id=\"atj\"]')\n",
    "a12.click()\n",
    "sleep(1)\n",
    "a13 = driver.find_element_by_xpath('/html/body/div[6]/div[2]/div[3]/a[2]')\n",
    "a13.click()\n",
    "sleep(1)\n",
    "a14 = driver.find_element_by_xpath('//*[@id=\"541904050127\"]/i[2]')\n",
    "a14.click()\n",
    "sleep(1)\n",
    "a15 = driver.find_element_by_xpath('//*[@id=\"apay\"]')\n",
    "a15.click()\n",
    "sleep(1)\n",
    "a16 = driver.find_element_by_xpath('/html/body/div[8]/div[2]/div[3]/a[2]')\n",
    "a16.click()"
   ]
  },
  {
   "cell_type": "code",
   "execution_count": null,
   "metadata": {},
   "outputs": [],
   "source": [
    "//*[@id=\"divfield1\"]/ul[1]\n",
    "\n",
    "//*[@id=\"divfield1\"]/ul[1]\n",
    "\n",
    "\n",
    "//*[@id=\"atj\"]\n",
    "/html/body/div[6]/div[2]/div[3]/a[2]\n",
    "//*[@id=\"541904050127\"]/i[2]\n",
    "//*[@id=\"apay\"]\n",
    "/html/body/div[8]/div[2]/div[3]/a[2]"
   ]
  },
  {
   "cell_type": "code",
   "execution_count": null,
   "metadata": {},
   "outputs": [],
   "source": [
    "//*[@id=\"li0乒乓球01-10\"]\n",
    "//*[@id=\"li0乒乓球01-21\"]\n",
    "//*[@id=\"li1健身03122\"]\n",
    "//*[@id=\"li1健身04123\"]\n",
    "//*[@id=\"li0健身010\"]\n",
    "//*[@id=\"li0健身0140\"]\n",
    "//*[@id=\"li0健身4039\"]\n"
   ]
  }
 ],
 "metadata": {
  "interpreter": {
   "hash": "b3ba2566441a7c06988d0923437866b63cedc61552a5af99d1f4fb67d367b25f"
  },
  "kernelspec": {
   "display_name": "Python 3.8.8 ('base')",
   "language": "python",
   "name": "python3"
  },
  "language_info": {
   "codemirror_mode": {
    "name": "ipython",
    "version": 3
   },
   "file_extension": ".py",
   "mimetype": "text/x-python",
   "name": "python",
   "nbconvert_exporter": "python",
   "pygments_lexer": "ipython3",
   "version": "3.8.8"
  },
  "orig_nbformat": 4
 },
 "nbformat": 4,
 "nbformat_minor": 2
}
