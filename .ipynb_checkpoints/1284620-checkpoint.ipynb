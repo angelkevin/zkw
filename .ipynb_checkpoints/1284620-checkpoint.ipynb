{
 "cells": [
  {
   "cell_type": "markdown",
   "metadata": {},
   "source": [
    "# 深度学习和机器学习的区别"
   ]
  },
  {
   "cell_type": "markdown",
   "metadata": {},
   "source": [
    "> 首先，人工智能是包含机器学习的，机器学习是包含深度学习的，每一个都有其对应的场景，比如说我去做一个简单的二分类，这个时候就没有必要去动用深度学习，然而当我们要去自然语言的处理，图像的处理，这些机器学习是可以完成的，但是深度学习却表现的更加好，并且随着学习样本的增加，机器学习是趋向于一个值，其图像的导数是趋近于0，深度学习的表现就很不错他是呈现的是一种上升的趋势，是类似于一种在学习中不提升自我的一种表现，它和机器学习相比，简化了特征提取这一环节，也减少不少的工作量。"
   ]
  },
  {
   "cell_type": "markdown",
   "metadata": {},
   "source": [
    "![](https://ai-studio-static-online.cdn.bcebos.com/bb8b8a2dd48748fc93fda877ec17abda7991d031eb5d4a42a97fb925e2972151)\n",
    "\n"
   ]
  },
  {
   "cell_type": "markdown",
   "metadata": {},
   "source": [
    "\n",
    "\n",
    "| 机器学习 | 深度学习 | \n",
    "| -------- | -------- | \n",
    "| 各种模型 | 神经网络 | \n",
    "|机器学习是人工智能的子集。|深度学习是机器学习的子集。|\n",
    "| 这样的模型使用数据向他们学习，然后做出相应的决策。| 这些模型能够自行做出任何决定。    |\n",
    "| 既定的算法是机器学习的基础。 | 人工神经网络(ANN)构成了深度学习的基础。|\n",
    "|机器学习模型已经树立了一些很好的例子，例如天气预报。|通过为现有机器学习模型提供甚至更好的功能，深度学习已涵盖了机器学习。  |\n",
    "| 例如：人脸识别，垃圾邮件过滤，天气预报等。   | 例如：谷歌的AlphaGo，特斯拉的自动驾驶汽车等。|"
   ]
  },
  {
   "cell_type": "markdown",
   "metadata": {},
   "source": [
    "# 神经网络的起源和概念"
   ]
  },
  {
   "cell_type": "markdown",
   "metadata": {},
   "source": [
    "<font size=4>**1. 什么是人工神经网络：**</font> <p style=\"text-indent:2em\">神经网络起源于对生物神经元的研究，如下图所示生物神经元包括细胞体，树突，轴突等部分。其中树突是用于接受输入信息，输入信息经过突触处理，当达到一定条件时通过轴突传出，此时神经元处于激活状态；反之没有达到相应条件，则神经元处于抑制状态。</p>"
   ]
  },
  {
   "cell_type": "markdown",
   "metadata": {},
   "source": [
    "![](https://ai-studio-static-online.cdn.bcebos.com/92261eed13bc4d2b87761f1448588776bdb0a1a8869642b2a33a6d3792bc70f1)\n",
    "\n"
   ]
  },
  {
   "cell_type": "markdown",
   "metadata": {},
   "source": [
    "<p style=\"text-indent:2em\">受到生物神经元的启发，1943年心理学家McCulloch和数学家Pitts提出了人工神经元的概念，人工神经元又称为感知机，如下图所示。输入经过加权和偏置后，由激活函数处理后决定输出。</p>"
   ]
  },
  {
   "cell_type": "markdown",
   "metadata": {},
   "source": [
    "![](https://ai-studio-static-online.cdn.bcebos.com/8398c4b47fb24112b538f68a93d46a7b02f403a5a8d641efab4815773541d22a)\n"
   ]
  },
  {
   "cell_type": "markdown",
   "metadata": {},
   "source": [
    "\n",
    "\n",
    "| 生物神经元 | 人工神经元 |\n",
    "| -------- | -------- | \n",
    "| 细胞核    | 神经元    |\n",
    "| 树突     | 输入     |\n",
    "| 轴突     | 输出     |\n",
    "| 突触     | 权重     |\n",
    "\n"
   ]
  },
  {
   "cell_type": "markdown",
   "metadata": {},
   "source": [
    "# 神经网络的相关概念"
   ]
  },
  {
   "cell_type": "markdown",
   "metadata": {},
   "source": [
    " **<font size=4>2.输入层、隐含层，输出层**</font>"
   ]
  },
  {
   "cell_type": "markdown",
   "metadata": {},
   "source": [
    "2.1：一般的神经网络包含以下几个部分，输入层，隐含层和输出层。下图是含有一个隐层的神经网络，隐层的层数越多，隐层结点数目越多，在非线性的激活函数下，神经网络就可以学习更深层次的特征。"
   ]
  },
  {
   "cell_type": "markdown",
   "metadata": {},
   "source": [
    "![](https://ai-studio-static-online.cdn.bcebos.com/5053ee25870244ceade966c3deec87bca2cc55ae43764a82addaf04c7b8a713b)\n"
   ]
  },
  {
   "cell_type": "markdown",
   "metadata": {},
   "source": [
    "2.2：激活函数"
   ]
  },
  {
   "cell_type": "markdown",
   "metadata": {},
   "source": [
    "**激活函数存在的意义：**\n",
    "\n",
    "激活函数是来向神经网络中引入非线性因素的，通过激活函数，神经网络就可以拟合各种曲线。"
   ]
  },
  {
   "cell_type": "markdown",
   "metadata": {},
   "source": [
    "![](https://ai-studio-static-online.cdn.bcebos.com/01b09a26c8254865a8a66f04293e2c698affdcb4af554b82ab1baf068dcae6c9)\n"
   ]
  },
  {
   "cell_type": "markdown",
   "metadata": {},
   "source": [
    "> 题目要求：准确分类三角形和圆形"
   ]
  },
  {
   "cell_type": "markdown",
   "metadata": {},
   "source": [
    "![](https://ai-studio-static-online.cdn.bcebos.com/030eaaab4d3345669bce741a8dc8eb847bf3a16f0cb9451ea774f72afd91c3eb)\n"
   ]
  },
  {
   "cell_type": "markdown",
   "metadata": {},
   "source": [
    "很显然用一条直线是不可能完成的......比如我在这里就用一个单层的感知机，也就是用一个神经元，这一看就是线性的模型必不可能完成啊!"
   ]
  },
  {
   "cell_type": "markdown",
   "metadata": {},
   "source": [
    "![](https://ai-studio-static-online.cdn.bcebos.com/eddcfe8e66084e9a824d326fd4cefb6048a8e671b3604d748d6797cda079c9f3)\n"
   ]
  },
  {
   "cell_type": "markdown",
   "metadata": {},
   "source": [
    "![](https://ai-studio-static-online.cdn.bcebos.com/dd8e945fdd4847d88e9b467189263870cf1df8c4f0144283a6cd976269f9035e)\n"
   ]
  },
  {
   "cell_type": "markdown",
   "metadata": {},
   "source": [
    "既然一个神经元搞不定，那多来几个吧，万一解决了呢？"
   ]
  },
  {
   "cell_type": "markdown",
   "metadata": {},
   "source": [
    "![](https://ai-studio-static-online.cdn.bcebos.com/fd249fa0c2f24172b57563b646bac13ac856b55c731849bdac0f42cfaef45043)\n"
   ]
  },
  {
   "cell_type": "markdown",
   "metadata": {},
   "source": [
    "但是最后我们一化简，改是线性的还是线性的，你把几个线性的模型再通过线性的方式去给他集成起来，当然是还是线性的了……这个时候聪明勇敢的劳动人民就想到了办法，既然通过增加神经元没有解决办法，那就化直为曲，所以就引入了激活函数，在每一层叠加完后，我们为输出与输入之间加上一个激活函数，此时的方程就变成了这样："
   ]
  },
  {
   "cell_type": "markdown",
   "metadata": {},
   "source": [
    "![](https://ai-studio-static-online.cdn.bcebos.com/7429d4266aa94840bb96db2539267b3c5bba1aa2e6394c669821d0302cdd080f)\n"
   ]
  },
  {
   "cell_type": "markdown",
   "metadata": {},
   "source": [
    "这个时候，绝对不是线性的了也许图像的分解函数就变了，他变了。"
   ]
  },
  {
   "cell_type": "markdown",
   "metadata": {},
   "source": [
    "![](https://ai-studio-static-online.cdn.bcebos.com/ad6a778c71bc40a189d7ea18a337b88134fc0326116b40e695914f9e541bc300)\n"
   ]
  },
  {
   "cell_type": "markdown",
   "metadata": {},
   "source": [
    "**当然了，并不是所有的函数都有资格去成为激活函数的，为了更好的深度学习，要求还是要有的，所以我们就提出了以下的几个要求：**"
   ]
  },
  {
   "cell_type": "markdown",
   "metadata": {},
   "source": [
    "1.非线性。如果激活函数是线性的，那么不管引入多少隐藏层，其效果和单层感知机没有任何差别。\n",
    "\n",
    "2.可微性。训练网路时使用的基于梯度的优化方法需要激活函数必须可微。\n",
    "\n",
    "3.单调性。单调性保证了神经网络模型简单。"
   ]
  },
  {
   "cell_type": "markdown",
   "metadata": {},
   "source": [
    "如果不用激活函数，每一层输出都是上层输入的线性函数，无论神经网络有多少层，输出都是输入的线性组合，这种情况就是最原始的感知机（Perceptron）。没有激活函数的每层都相当于矩阵相乘。就算你叠加了若干层之后，无非还是个矩阵相乘罢了。\n",
    "\n",
    "如果使用的话，激活函数给神经元引入了非线性因素，使得神经网络可以任意逼近任何非线性函数，这样神经网络就可以应用到众多的非线性模型中。"
   ]
  },
  {
   "cell_type": "markdown",
   "metadata": {},
   "source": [
    "小结：从上面的分析来看，我们可以看出激活函数是神经网络在拟合函数方面超过传统机器学习方法的一个关键因素。对比传统机器学习方法中， 即使是最复杂的SVM， 在拟合方面非线性曲线差神经网络n条街。"
   ]
  },
  {
   "cell_type": "markdown",
   "metadata": {},
   "source": [
    "<font size=6>以下是几个大家都在用的模型：</font>"
   ]
  },
  {
   "cell_type": "markdown",
   "metadata": {},
   "source": [
    "<font size=3>1. sigmoid函数：</font>"
   ]
  },
  {
   "cell_type": "markdown",
   "metadata": {},
   "source": [
    "<font size=5>sigmoid函数:   $y = \\frac{1}{1 + e^{-x}}$</font>\n",
    "\n",
    "<font size=5>导数:   $(\\frac{1}{1 + e^{-x}})' = \\frac{1}{1+ e^{-x}}(1 - \\frac{1}{1 + e^{-x}})    = y \\, \\, (1-y)$</font>"
   ]
  },
  {
   "cell_type": "code",
   "execution_count": 4,
   "metadata": {},
   "outputs": [
    {
     "data": {
      "image/png": "[encoded data removed]",
      "text/plain": [
       "<Figure size 432x288 with 1 Axes>"
      ]
     },
     "metadata": {},
     "output_type": "display_data"
    }
   ],
   "source": [
    "import matplotlib.pyplot as plt\n",
    "import numpy as np\n",
    " \n",
    " \n",
    "def sigmoid(x):\n",
    "    return 1. / (1. + np.exp(-x))\n",
    " \n",
    " \n",
    "def plot_sigmoid():\n",
    "    # param:起点，终点，间距\n",
    "    x = np.arange(-8, 8, 0.2)\n",
    "    y = sigmoid(x)\n",
    "    plt.plot(x, y)\n",
    "    plt.show()\n",
    "plot_sigmoid()\n",
    "\n"
   ]
  },
  {
   "cell_type": "code",
   "execution_count": 5,
   "metadata": {},
   "outputs": [
    {
     "data": {
      "image/png": "[encoded data removed]",
      "text/plain": [
       "<Figure size 432x288 with 1 Axes>"
      ]
     },
     "metadata": {},
     "output_type": "display_data"
    }
   ],
   "source": [
    "def sigmoid(x):\n",
    "    y=1/(1+np.exp(-x))\n",
    "    y=y*(1-y)\n",
    "    return y\n",
    " \n",
    " \n",
    "def plot_sigmoid():\n",
    "    x = np.arange(-8, 8, 0.2)\n",
    "    y = sigmoid(x)\n",
    "    plt.plot(x, y)\n",
    "    plt.show()\n",
    " \n",
    "plot_sigmoid()"
   ]
  },
  {
   "cell_type": "markdown",
   "metadata": {},
   "source": [
    "> 1.Sigmoid函数的输出在(0,1)之间，输出范围有限，优化稳定，可以用作输出层。\n",
    "> \n",
    "> 2.连续函数，便于求导。\n",
    "> > \n",
    "> > 1. sigmoid函数在变量取绝对值非常大的正值或负值时会出现饱和现象，意味着函数会变得很平，并且对输入的微小改变会变得不敏感。 在反向传播时，当梯度接近于0，权重基本不会更新，很容易就会出现梯度消失的情况，从而无法完成深层网络的训练。\n",
    "> > \n",
    "> > 2. sigmoid函数的输出不是0均值的，会导致后层的神经元的输入是非0均值的信号，这会对梯度产生影响。\n",
    "> > \n",
    "> > 3. 计算复杂度高，因为sigmoid函数是指数形式。\n",
    "> > "
   ]
  },
  {
   "cell_type": "markdown",
   "metadata": {},
   "source": [
    "<font size=3> 2.tanh函数 -- 双曲正切函数</font>"
   ]
  },
  {
   "cell_type": "markdown",
   "metadata": {},
   "source": [
    "<font size=5>  公式： $y = tanh(x) = \\frac{e^x - e^{-x}}{e^x + e^{-x}}$  </font> \n",
    "\n",
    "<font size=5>  导数： $y'= 1 - (tanh(x))^2$  </font> "
   ]
  },
  {
   "cell_type": "code",
   "execution_count": 6,
   "metadata": {},
   "outputs": [
    {
     "data": {
      "image/png": "[encoded data removed]",
      "text/plain": [
       "<Figure size 432x288 with 1 Axes>"
      ]
     },
     "metadata": {},
     "output_type": "display_data"
    }
   ],
   "source": [
    "x = np.arange(-4,4,0.01)\n",
    "\n",
    "y = np.tanh(x)\n",
    "\n",
    "plt.plot(x, y, label = \"label\", color = \"red\", linewidth = 2)\n",
    "plt.xlabel(\"abscissa\")\n",
    "plt.ylabel(\"ordinate\")\n",
    "plt.title(\"tanh Example\")\n",
    "plt.show()"
   ]
  },
  {
   "cell_type": "code",
   "execution_count": 7,
   "metadata": {},
   "outputs": [
    {
     "data": {
      "image/png": "[encoded data removed]",
      "text/plain": [
       "<Figure size 432x288 with 1 Axes>"
      ]
     },
     "metadata": {},
     "output_type": "display_data"
    }
   ],
   "source": [
    "x = np.arange(-10,10,0.01)\n",
    "y=1-pow((1-np.exp(-2*x))/(1+np.exp(-2*x)),2)\n",
    "plt.plot(x, y, label = \"label\", color = \"red\", linewidth = 2)\n",
    "plt.xlabel(\"abscissa\")\n",
    "plt.ylabel(\"ordinate\")\n",
    "plt.title(\"derivative image\")\n",
    "plt.show()"
   ]
  },
  {
   "cell_type": "markdown",
   "metadata": {},
   "source": [
    "> Tanh函数是 0 均值的，因此实际应用中 Tanh 会比 sigmoid 更好。但是仍然存在梯度饱和与exp计算的问题。"
   ]
  },
  {
   "cell_type": "markdown",
   "metadata": {},
   "source": [
    "<font size=3>ReLU整流线性单元（Rectified linear unit，ReLU）是目前使用最频繁的一个函数，如果你不知道你的激活函数应该选择哪个，那么建议你选择ReLU试试。一般情况下，将ReLU作为你的第一选择。</font>"
   ]
  },
  {
   "cell_type": "markdown",
   "metadata": {},
   "source": [
    "<font size=5>  公式：  $y = max(0, x)$  </font> \n",
    "\n",
    "<font size=5>  导数： $if  \\quad x <  0,  \\ g'(x) = 0    \\\\ if  \\quad x >= 0, \\ g'(x) = 1$</font> "
   ]
  },
  {
   "cell_type": "code",
   "execution_count": 8,
   "metadata": {},
   "outputs": [
    {
     "data": {
      "text/plain": [
       "<matplotlib.legend.Legend at 0x7f69f5056fd0>"
      ]
     },
     "execution_count": 8,
     "metadata": {},
     "output_type": "execute_result"
    },
    {
     "data": {
      "image/png": "[encoded data removed]",
      "text/plain": [
       "<Figure size 432x288 with 1 Axes>"
      ]
     },
     "metadata": {},
     "output_type": "display_data"
    }
   ],
   "source": [
    "x=np.linspace(-2,2,100)\n",
    "y=x*(x>0)\n",
    "plt.xlabel('x')\n",
    "plt.ylabel('y')\n",
    "plt.title(\"Relu function and its derivative image\")\n",
    "plt.plot(x,y,color='r',label=\"Relu\")\n",
    "\n",
    "x=np.linspace(-2,0)\n",
    "y=np.linspace(0,0)\n",
    "plt.plot(x,y,color='b')\n",
    "\n",
    "x=np.linspace(0,2)\n",
    "y=np.linspace(1,1)\n",
    "plt.plot(x,y,color='b',label=\"derivative\")\n",
    "\n",
    "plt.legend()"
   ]
  },
  {
   "cell_type": "markdown",
   "metadata": {},
   "source": [
    "> 首先，Relu一定程度上缓解了梯度问题（正区间）,在x>0区域上，不会出现梯度饱和、梯度消失的问题。 其次， 计算速度非常快，这一点也可以明显比较出来。 最后， Relu加速了模型的收敛， 比sigmoid与tanh要快很多。\n",
    "> \n",
    "> > Relu的输出不是原点中心对称。也就是其均值不是0；\n",
    "> > Dead ReLU Problem(神经元坏死现象)：ReLU在负数区域被kill的现象叫做dead relu。ReLU在训练的时很“脆弱”。在x<0时，梯度为0。这个神经元及之后的神经元梯度永远为0，不再对任何数据有所响应，导致相应参数永远不会被更新。这表示某些神经元可能永远不会被激活， 导致其相应的参数永远不能被更新。其本质是由于Relu在的小于0时其梯度为0所导致的。"
   ]
  },
  {
   "cell_type": "markdown",
   "metadata": {},
   "source": [
    "常见激活函数优缺点与dead relu problem：[https://zhuanlan.zhihu.com/p/92412922](http://)"
   ]
  },
  {
   "cell_type": "markdown",
   "metadata": {},
   "source": [
    "<font size=4>2.3 权重和偏置</font>"
   ]
  },
  {
   "cell_type": "markdown",
   "metadata": {},
   "source": [
    " 如下图所示，假设神经元输入是X = [x1,x2,x3]，权重为w,偏置为b, 那么其输出为："
   ]
  },
  {
   "cell_type": "markdown",
   "metadata": {},
   "source": [
    "![](https://ai-studio-static-online.cdn.bcebos.com/eddcfe8e66084e9a824d326fd4cefb6048a8e671b3604d748d6797cda079c9f3)\n"
   ]
  },
  {
   "cell_type": "code",
   "execution_count": 9,
   "metadata": {},
   "outputs": [
    {
     "name": "stdout",
     "output_type": "stream",
     "text": [
      "[0.9999833]\n"
     ]
    }
   ],
   "source": [
    "import numpy as np\n",
    "def sigmoid(x):\n",
    "    return 1. / (1. + np.exp(-x))\n",
    "\n",
    "w = np.array([1,2])\n",
    "x = np.array([[2],\n",
    "             [3]])\n",
    "b = 3\n",
    "y = w.dot(x) + b\n",
    "\n",
    "out = sigmoid(y)\n",
    "print(out)"
   ]
  },
  {
   "cell_type": "markdown",
   "metadata": {},
   "source": []
  },
  {
   "cell_type": "markdown",
   "metadata": {},
   "source": []
  },
  {
   "cell_type": "markdown",
   "metadata": {},
   "source": []
  },
  {
   "cell_type": "markdown",
   "metadata": {},
   "source": []
  },
  {
   "cell_type": "markdown",
   "metadata": {},
   "source": []
  },
  {
   "cell_type": "markdown",
   "metadata": {},
   "source": []
  },
  {
   "cell_type": "markdown",
   "metadata": {},
   "source": []
  },
  {
   "cell_type": "markdown",
   "metadata": {},
   "source": []
  },
  {
   "cell_type": "markdown",
   "metadata": {},
   "source": []
  },
  {
   "cell_type": "markdown",
   "metadata": {},
   "source": []
  },
  {
   "cell_type": "markdown",
   "metadata": {},
   "source": []
  },
  {
   "cell_type": "markdown",
   "metadata": {},
   "source": []
  },
  {
   "cell_type": "markdown",
   "metadata": {},
   "source": []
  },
  {
   "cell_type": "markdown",
   "metadata": {},
   "source": []
  },
  {
   "cell_type": "markdown",
   "metadata": {},
   "source": []
  },
  {
   "cell_type": "markdown",
   "metadata": {},
   "source": []
  },
  {
   "cell_type": "markdown",
   "metadata": {},
   "source": []
  },
  {
   "cell_type": "markdown",
   "metadata": {},
   "source": []
  },
  {
   "cell_type": "markdown",
   "metadata": {},
   "source": []
  },
  {
   "cell_type": "markdown",
   "metadata": {},
   "source": []
  },
  {
   "cell_type": "markdown",
   "metadata": {},
   "source": []
  },
  {
   "cell_type": "markdown",
   "metadata": {},
   "source": []
  },
  {
   "cell_type": "markdown",
   "metadata": {},
   "source": []
  },
  {
   "cell_type": "markdown",
   "metadata": {},
   "source": []
  },
  {
   "cell_type": "markdown",
   "metadata": {},
   "source": []
  },
  {
   "cell_type": "markdown",
   "metadata": {},
   "source": []
  }
 ],
 "metadata": {
  "kernelspec": {
   "display_name": "Python 3",
   "language": "python",
   "name": "python3"
  },
  "language_info": {
   "codemirror_mode": {
    "name": "ipython",
    "version": 3
   },
   "file_extension": ".py",
   "mimetype": "text/x-python",
   "name": "python",
   "nbconvert_exporter": "python",
   "pygments_lexer": "ipython3",
   "version": "3.8.8"
  }
 },
 "nbformat": 4,
 "nbformat_minor": 1
}
