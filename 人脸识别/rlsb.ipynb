{
 "cells": [
  {
   "cell_type": "code",
   "execution_count": 2,
   "metadata": {},
   "outputs": [
    {
     "name": "stderr",
     "output_type": "stream",
     "text": [
      "<ipython-input-2-734e58fd5e34>:20: DeprecationWarning: elementwise comparison failed; this will raise an error in the future.\n",
      "  if faces != ():  #避免空数据的出现，如果没有人脸会返回空元组\n"
     ]
    }
   ],
   "source": [
    "import cv2\n",
    "import time\n",
    "import matplotlib.pyplot as plt\n",
    "import numpy as np\n",
    "xxx = [] #获取人脸的坐标\n",
    "yyy = [] #获取视频的图像\n",
    "cap = cv2.VideoCapture(0)  # 调用第一个摄像头\n",
    "# 人脸特征分类器\n",
    "face_cascade = cv2.CascadeClassifier('C:/ProgramData/Anaconda3/Lib/site-packages/cv2/data/haarcascade_frontalface_alt2.xml')\n",
    "# 循环识别\n",
    "while True:\n",
    "    # width = 1920 #定义摄像头获取图像宽度\n",
    "    # height = 1080  #定义摄像头获取图像长度\n",
    "\n",
    "    # cap.set(cv2.CAP_PROP_FRAME_WIDTH, width)  #设置宽度\n",
    "    # cap.set(cv2.CAP_PROP_FRAME_HEIGHT, height)  #设置长度\n",
    "    ret, frame = cap.read()\n",
    "    grey = cv2.cvtColor(frame, cv2.COLOR_BGR2GRAY)\n",
    "    faces = face_cascade.detectMultiScale(grey, 1.3, 5)\n",
    "    if faces != ():  #避免空数据的出现，如果没有人脸会返回空元组\n",
    "        yyy.append(grey)\n",
    "        xxx.append(faces)\n",
    "    # 人脸处理，画矩形图像\n",
    "    for (x, y, w, h) in faces:\n",
    "        cv2.rectangle(frame, (x, y), (x + w, y + h), (255, 0, 0), 1)\n",
    "    # 显示图像以及窗口关闭\n",
    "    cv2.imshow('kk', frame)\n",
    "    flag = cv2.waitKey(1)\n",
    "    if flag == 27:#按下ESC键退出\n",
    "            break\n",
    "# 销毁窗口\n",
    "cv2.destroyAllWindows()"
   ]
  },
  {
   "cell_type": "code",
   "execution_count": 3,
   "metadata": {},
   "outputs": [],
   "source": [
    "#将BGR转化成RGB\n",
    "def BGR2RGB(img):\n",
    "    img=img.copy()\n",
    "    t=img[:,:,0].copy()\n",
    "    img[:,:,0]=img[:,:,2].copy()\n",
    "    img[:,:,2]=t\n",
    "    return img"
   ]
  },
  {
   "cell_type": "code",
   "execution_count": 4,
   "metadata": {},
   "outputs": [],
   "source": [
    "import cv2\n",
    "import os\n",
    "def crop(img,set,i,name):  #裁剪函数\n",
    "    num = set[0]\n",
    "    cropped = img[num[1]+1:num[1]+num[3]-1,num[0]+1:num[0]+num[2]-1]  # 坐标为[y:y+h, x:x+w] +1/-1是为了不想看到外面那个蓝色的框框233333\n",
    "    # plt.imshow(BGR2RGB(cropped))\n",
    "    # plt.show()\n",
    "    cv2.imwrite(f\"E:\\PycharmProjects\\pythonProject\\\\rlsb\\{name}\\{name}.{i}.jpg\",cropped) #保存文件\n",
    "    return cropped"
   ]
  },
  {
   "cell_type": "code",
   "execution_count": 5,
   "metadata": {},
   "outputs": [],
   "source": [
    "name = input(\"please enter name\")\n",
    "os.makedirs(f\"E:\\PycharmProjects\\pythonProject\\\\rlsb\\{name}\")\n",
    "for i in range(len(xxx)):\n",
    "    crop(yyy[i],xxx[i],i,name)"
   ]
  },
  {
   "cell_type": "code",
   "execution_count": 6,
   "metadata": {},
   "outputs": [],
   "source": [
    "for i in range(5):\n",
    "    for (x, y, w, h) in xxx[i]:\n",
    "            cv2.rectangle(yyy[i], (x, y), (x + w, y + h), (255, 0, 0), 2)\n",
    "            # plt.imshow(BGR2RGB(yyy[i]))\n",
    "            # plt.show()"
   ]
  },
  {
   "cell_type": "code",
   "execution_count": 7,
   "metadata": {},
   "outputs": [],
   "source": [
    "import cv2\n",
    "import os\n",
    "import numpy as np\n",
    "from PIL import Image\n",
    " \n",
    "recognizer = cv2.face.LBPHFaceRecognizer_create()\n",
    "detector = cv2.CascadeClassifier('C:/ProgramData/Anaconda3/Lib/site-packages/cv2/data/haarcascade_frontalface_alt2.xml')\n",
    " \n",
    " \n",
    "def get_images_and_labels(path):\n",
    "    path1 = [os.path.join(path, f) for f in os.listdir(path)]   #获取数据文件夹下面的文件夹的路径\n",
    "    names = [f for f in os.listdir(path)]                       #获取数据文件夹下面的文件夹的名字\n",
    "    #print(path1)\n",
    "    face_samples = []                                           #人脸数据\n",
    "    ids = []                                                    #数据标签\n",
    "    for i in range(len(path1)):\n",
    "        image_paths = [os.path.join(path1[i], f) for f in os.listdir(path1[i])]\n",
    "        #print(image_paths)\n",
    "    \n",
    "        for image_path in image_paths:\n",
    "            image = Image.open(image_path).convert(\"L\")\n",
    "            image_np = np.array(image, \"uint8\")\n",
    "            faces = detector.detectMultiScale(image_np)\n",
    "            for (x, y, w, h) in faces:\n",
    "                face_samples.append(image_np[y : y + h, x : x + w])\n",
    "                ids.append(i)\n",
    "    \n",
    "    return face_samples, ids ,names\n",
    "    \n",
    " \n",
    "faces, Ids,names = get_images_and_labels(r\"rlsb\\\\\")\n",
    "# print(faces,Ids,names)\n",
    "recognizer.train(faces, np.array(Ids))\n",
    "recognizer.save(\"trainner.yml\")"
   ]
  },
  {
   "cell_type": "code",
   "execution_count": null,
   "metadata": {},
   "outputs": [],
   "source": [
    "import cv2\n",
    " \n",
    "recognizer = cv2.face.LBPHFaceRecognizer_create()\n",
    "recognizer.read('trainner.yml')\n",
    "faceCascade = cv2.CascadeClassifier('C:/ProgramData/Anaconda3/Lib/site-packages/cv2/data/haarcascade_frontalface_alt2.xml')\n",
    "font = cv2.FONT_HERSHEY_SIMPLEX\n",
    " \n",
    "idnum = 0\n",
    " \n",
    "cam = cv2.VideoCapture(0)\n",
    "minW = 0.1*cam.get(3)\n",
    "minH = 0.1*cam.get(4)\n",
    " \n",
    "while True:\n",
    "    # width = 1920 #定义摄像头获取图像宽度\n",
    "    # height = 1080  #定义摄像头获取图像长度\n",
    "\n",
    "    # cam.set(cv2.CAP_PROP_FRAME_WIDTH, width)  #设置宽度\n",
    "    # cam.set(cv2.CAP_PROP_FRAME_HEIGHT, height)  #设置长度\n",
    "    ret, img = cam.read()\n",
    "    gray = cv2.cvtColor(img, cv2.COLOR_BGR2GRAY)\n",
    " \n",
    "    faces = faceCascade.detectMultiScale(\n",
    "        gray,\n",
    "        scaleFactor=1.2,\n",
    "        minNeighbors=5,\n",
    "        minSize=(int(minW), int(minH))\n",
    "    )\n",
    " \n",
    "    for (x, y, w, h) in faces:\n",
    "        cv2.rectangle(img, (x, y), (x+w, y+h), (0, 255, 0), 2)\n",
    "        idnum, confidence = recognizer.predict(gray[y:y+h, x:x+w])\n",
    " \n",
    "        if confidence >40:              #置信大于40\n",
    "            idnum = names[idnum]\n",
    "            confidence = \"{0}%\".format(round(confidence))\n",
    "        else:\n",
    "            idnum = \"unknown\"\n",
    "            confidence = \"{0}%\".format(round(confidence))\n",
    " \n",
    "        cv2.putText(img, str(idnum), (x+5, y-5), font, 1, (0, 0, 255), 1)\n",
    "        cv2.putText(img, str(confidence), (x+5, y+h-5), font, 1, (255, 255, 0), 1)\n",
    " \n",
    "    cv2.imshow('camera', img)\n",
    "    flag = cv2.waitKey(1)\n",
    "    if flag == 27:                         #按下ESC键退出\n",
    "            break\n",
    " \n",
    "cam.release()\n",
    "cv2.destroyAllWindows()"
   ]
  },
  {
   "cell_type": "code",
   "execution_count": null,
   "metadata": {},
   "outputs": [],
   "source": []
  }
 ],
 "metadata": {
  "interpreter": {
   "hash": "b3ba2566441a7c06988d0923437866b63cedc61552a5af99d1f4fb67d367b25f"
  },
  "kernelspec": {
   "display_name": "Python 3",
   "language": "python",
   "name": "python3"
  },
  "language_info": {
   "codemirror_mode": {
    "name": "ipython",
    "version": 3
   },
   "file_extension": ".py",
   "mimetype": "text/x-python",
   "name": "python",
   "nbconvert_exporter": "python",
   "pygments_lexer": "ipython3",
   "version": "3.8.8"
  }
 },
 "nbformat": 4,
 "nbformat_minor": 2
}
